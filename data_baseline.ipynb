{
 "cells": [
  {
   "cell_type": "code",
   "execution_count": 43,
   "metadata": {},
   "outputs": [],
   "source": [
    "import numpy as np\n",
    "from sklearn.decomposition import TruncatedSVD\n",
    "from sklearn.preprocessing import StandardScaler\n",
    "from read_script import read_dataset"
   ]
  },
  {
   "cell_type": "code",
   "execution_count": 21,
   "metadata": {},
   "outputs": [],
   "source": [
    "from tqdm import tqdm_notebook as tqdm"
   ]
  },
  {
   "cell_type": "code",
   "execution_count": 24,
   "metadata": {},
   "outputs": [],
   "source": [
    "# converts the dict to an array\n",
    "# averages protein embedding across sequence\n",
    "def converDictToArrAndAverageEmbedding(data_dict, labels):\n",
    "\n",
    "    emb_size = list(data_dict.values())[0].shape[1]\n",
    "    X = np.zeros((len(data_dict), emb_size))\n",
    "    y = np.zeros(len(data_dict))\n",
    "    \n",
    "    i = 0\n",
    "    for key in data_dict:\n",
    "        X[i] = np.mean(data_dict[key], axis=0)\n",
    "        y[i] = labels[key]\n",
    "        i += 1\n",
    "        \n",
    "    return X, y\n"
   ]
  },
  {
   "cell_type": "code",
   "execution_count": 25,
   "metadata": {},
   "outputs": [],
   "source": [
    "def convertDictToArrAndRandomAverage(data_dict, labels):\n",
    "    np.random.seed(42)\n",
    "    \n",
    "    emb_size = list(data_dict.values())[0].shape[1]\n",
    "    X = np.zeros((len(data_dict), emb_size))\n",
    "    y = np.zeros(len(data_dict))\n",
    "    \n",
    "    i = 0\n",
    "    for key in tqdm(data_dict):\n",
    "        x = data_dict[key]\n",
    "        n_rows, n_cols = x.shape\n",
    "        random_indices = np.random.choice(n_rows, size=min(50, n_rows), replace=False)\n",
    "        x = x[random_indices, :]\n",
    "        \n",
    "        X[i] = np.mean(x, axis=0)\n",
    "        y[i] = labels[key]\n",
    "        i += 1\n",
    "        \n",
    "    return X, y"
   ]
  },
  {
   "cell_type": "code",
   "execution_count": 40,
   "metadata": {},
   "outputs": [],
   "source": [
    "def converDictToArrAndAverageMax(data_dict, labels):\n",
    "\n",
    "    emb_size = list(data_dict.values())[0].shape[1]\n",
    "    X = np.zeros((len(data_dict), emb_size*2))\n",
    "    y = np.zeros(len(data_dict))\n",
    "    \n",
    "    i = 0\n",
    "    for key in data_dict:\n",
    "        x = data_dict[key]\n",
    "        ma = np.amax(x, axis=0) \n",
    "        me = np.mean(x, axis=0)\n",
    "        x = np.concatenate((ma, me), axis=None)\n",
    "        \n",
    "        X[i] = x\n",
    "        y[i] = labels[key]\n",
    "        i += 1\n",
    "        \n",
    "    scaler = StandardScaler()\n",
    "    X = scaler.fit_transform(X)\n",
    "        \n",
    "    return X, y\n"
   ]
  },
  {
   "cell_type": "code",
   "execution_count": 26,
   "metadata": {},
   "outputs": [],
   "source": [
    "from sklearn.svm import LinearSVC\n",
    "from sklearn.multiclass import OneVsRestClassifier\n",
    "\n",
    "def fit_multiclass_svm(X_dict, y_dict, converter):\n",
    "\n",
    "    print(\"reshape data...\")\n",
    "    X, y = converter(X_dict, y_dict)\n",
    "    print(\"X shape: \", X.shape)\n",
    "    print(\"y shape: \", y.shape)\n",
    "    \n",
    "    print(\"fitting svm...\")\n",
    "    clf = OneVsRestClassifier(LinearSVC())\n",
    "    clf.fit(X, y)\n",
    "    \n",
    "    return clf"
   ]
  },
  {
   "cell_type": "code",
   "execution_count": 27,
   "metadata": {},
   "outputs": [],
   "source": [
    "def score_clf(X_dict, y_dict, clf, converter):\n",
    "    \n",
    "    print(\"reshape data...\")\n",
    "    X, y = converter(X_dict, y_dict)\n",
    "    print(\"X shape: \", X.shape)\n",
    "    print(\"y shape: \", y.shape)\n",
    "    \n",
    "    print(\"scoring svm...\")\n",
    "    res = clf.score(X, y)\n",
    "    \n",
    "    return res\n",
    "    "
   ]
  },
  {
   "cell_type": "code",
   "execution_count": 30,
   "metadata": {},
   "outputs": [],
   "source": [
    "from timeit import default_timer as timer\n",
    "from datetime import timedelta\n",
    "\n",
    "\n",
    "def svm_base_eval(model, task, converter):\n",
    "\n",
    "    print(f\"svm_base_eval for model: {model}, task: {task}\")\n",
    "    print(\"===============================================\")\n",
    "    \n",
    "    print(\"\\nTRAIN\")\n",
    "    # fit svm for elmo, remote_homology data set\n",
    "    X_train = read_dataset(model, task, 'train')\n",
    "    y_train = read_dataset('label', task, 'train')\n",
    "\n",
    "    start = timer()\n",
    "    clf = fit_multiclass_svm(X_train, y_train, converter)\n",
    "    end = timer()\n",
    "    print(\"fit time: \", timedelta(seconds=end-start))\n",
    "\n",
    "    print(\"\\nVALID\")\n",
    "    # validiate svm for elmo, remote_homology data set\n",
    "    X_valid = read_dataset(model, task, 'valid')\n",
    "    y_valid = read_dataset('label', task, 'valid')\n",
    "\n",
    "    valid_score = score_clf(X_valid, y_valid, clf, converter)\n",
    "\n",
    "    print(f\"{model}  valid score: \", valid_score)\n",
    "\n",
    "    print(\"\\nTEST\")\n",
    "    # test svm for elmo, remote_homology data set\n",
    "    X_test = read_dataset(model, task, 'test')\n",
    "    y_test = read_dataset('label', task, 'test')\n",
    "\n",
    "    test_score = score_clf(X_test, y_test, clf, converter)\n",
    "\n",
    "    print(f\"{model} test score: \", test_score)\n"
   ]
  },
  {
   "cell_type": "code",
   "execution_count": 31,
   "metadata": {},
   "outputs": [
    {
     "name": "stdout",
     "output_type": "stream",
     "text": [
      "svm_base_eval for model: elmo, task: remote_homology\n",
      "===============================================\n",
      "\n",
      "TRAIN\n",
      "reshape data...\n"
     ]
    },
    {
     "data": {
      "application/vnd.jupyter.widget-view+json": {
       "model_id": "bb7fb33a76cb4986a7f6fbf63ec31a2a",
       "version_major": 2,
       "version_minor": 0
      },
      "text/plain": [
       "HBox(children=(IntProgress(value=0, max=12305), HTML(value='')))"
      ]
     },
     "metadata": {},
     "output_type": "display_data"
    },
    {
     "name": "stdout",
     "output_type": "stream",
     "text": [
      "\n",
      "X shape:  (12305, 1024)\n",
      "y shape:  (12305,)\n",
      "fitting svm...\n",
      "fit time:  0:09:22.084535\n",
      "\n",
      "VALID\n",
      "reshape data...\n"
     ]
    },
    {
     "data": {
      "application/vnd.jupyter.widget-view+json": {
       "model_id": "ba611c8581b948f298b2a1c11f110ef4",
       "version_major": 2,
       "version_minor": 0
      },
      "text/plain": [
       "HBox(children=(IntProgress(value=0, max=734), HTML(value='')))"
      ]
     },
     "metadata": {},
     "output_type": "display_data"
    },
    {
     "name": "stdout",
     "output_type": "stream",
     "text": [
      "\n",
      "X shape:  (734, 1024)\n",
      "y shape:  (734,)\n",
      "scoring svm...\n",
      "elmo  valid score:  0.37329700272479566\n",
      "\n",
      "TEST\n",
      "reshape data...\n"
     ]
    },
    {
     "data": {
      "application/vnd.jupyter.widget-view+json": {
       "model_id": "2cc927571bef4529ab52a8aada38e928",
       "version_major": 2,
       "version_minor": 0
      },
      "text/plain": [
       "HBox(children=(IntProgress(value=0, max=718), HTML(value='')))"
      ]
     },
     "metadata": {},
     "output_type": "display_data"
    },
    {
     "name": "stdout",
     "output_type": "stream",
     "text": [
      "\n",
      "X shape:  (718, 1024)\n",
      "y shape:  (718,)\n",
      "scoring svm...\n",
      "elmo test score:  0.22841225626740946\n",
      "CPU times: user 9min 27s, sys: 10.1 s, total: 9min 38s\n",
      "Wall time: 9min 38s\n"
     ]
    }
   ],
   "source": [
    "%%time\n",
    "svm_base_eval(\"elmo\", \"remote_homology\", convertDictToArrAndRandomAverage)"
   ]
  },
  {
   "cell_type": "markdown",
   "metadata": {},
   "source": [
    "# baselines"
   ]
  },
  {
   "cell_type": "code",
   "execution_count": 16,
   "metadata": {},
   "outputs": [
    {
     "name": "stdout",
     "output_type": "stream",
     "text": [
      "svm_base_eval for model: unirep, task: remote_homology\n",
      "===============================================\n",
      "\n",
      "TRAIN\n",
      "reshape data...\n",
      "X shape:  (12305, 1900)\n",
      "y shape:  (12305,)\n",
      "fitting svm...\n",
      "fit time:  0:21:43.167036\n",
      "\n",
      "VALID\n",
      "reshape data...\n",
      "X shape:  (734, 1900)\n",
      "y shape:  (734,)\n",
      "scoring svm...\n",
      "unirep  valid score:  0.2847411444141689\n",
      "\n",
      "TEST\n",
      "reshape data...\n",
      "X shape:  (718, 1900)\n",
      "y shape:  (718,)\n",
      "scoring svm...\n",
      "unirep test score:  0.21030640668523676\n"
     ]
    }
   ],
   "source": [
    "svm_base_eval(\"unirep\", \"remote_homology\")"
   ]
  },
  {
   "cell_type": "code",
   "execution_count": 7,
   "metadata": {},
   "outputs": [
    {
     "name": "stdout",
     "output_type": "stream",
     "text": [
      "svm_base_eval for model: elmo, task: remote_homology\n",
      "===============================================\n",
      "\n",
      "TRAIN\n",
      "reshape data...\n",
      "X shape:  (12305, 1024)\n",
      "y shape:  (12305,)\n",
      "fitting svm...\n",
      "fit time:  0:06:55.138425\n",
      "\n",
      "VALID\n",
      "reshape data...\n",
      "X shape:  (734, 1024)\n",
      "y shape:  (734,)\n",
      "scoring svm...\n",
      "elmo  valid score:  0.38419618528610355\n",
      "\n",
      "TEST\n",
      "reshape data...\n",
      "X shape:  (718, 1024)\n",
      "y shape:  (718,)\n",
      "scoring svm...\n",
      "elmo test score:  0.233983286908078\n"
     ]
    }
   ],
   "source": [
    "svm_base_eval(\"elmo\", \"remote_homology\")"
   ]
  },
  {
   "cell_type": "code",
   "execution_count": null,
   "metadata": {},
   "outputs": [],
   "source": []
  }
 ],
 "metadata": {
  "kernelspec": {
   "display_name": "Python 3",
   "language": "python",
   "name": "python3"
  },
  "language_info": {
   "codemirror_mode": {
    "name": "ipython",
    "version": 3
   },
   "file_extension": ".py",
   "mimetype": "text/x-python",
   "name": "python",
   "nbconvert_exporter": "python",
   "pygments_lexer": "ipython3",
   "version": "3.6.5"
  }
 },
 "nbformat": 4,
 "nbformat_minor": 4
}
