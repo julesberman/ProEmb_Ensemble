{
 "cells": [
  {
   "cell_type": "code",
   "execution_count": 45,
   "metadata": {},
   "outputs": [],
   "source": [
    "import numpy as np\n",
    "from read_script import read_dataset"
   ]
  },
  {
   "cell_type": "code",
   "execution_count": 23,
   "metadata": {},
   "outputs": [],
   "source": [
    "# converts the dict to an array\n",
    "# averages protein embedding across sequence\n",
    "def converDictToArrAndAverageEmbedding(data_dict, labels):\n",
    "\n",
    "    emb_size = list(data_dict.values())[0].shape[1]\n",
    "    X = np.zeros((len(data_dict), emb_size))\n",
    "\n",
    "    y = np.zeros(len(data_dict))\n",
    "    \n",
    "    i = 0\n",
    "    for key in data_dict:\n",
    "        X[i] = np.mean(data_dict[key], axis=0)\n",
    "        y[i] = labels[key]\n",
    "        i += 1\n",
    "        \n",
    "    return X, y\n"
   ]
  },
  {
   "cell_type": "code",
   "execution_count": 24,
   "metadata": {},
   "outputs": [],
   "source": [
    "from sklearn.svm import LinearSVC\n",
    "from sklearn.multiclass import OneVsRestClassifier\n",
    "\n",
    "def fit_multiclass_svm(X_dict, y_dict):\n",
    "\n",
    "    print(\"reshape data...\")\n",
    "    X, y = converDictToArrAndAverageEmbedding(X_dict, y_dict)\n",
    "    print(\"X shape: \", X.shape)\n",
    "    print(\"y shape: \", y.shape)\n",
    "    \n",
    "    print(\"fitting svm...\")\n",
    "    clf = OneVsRestClassifier(LinearSVC())\n",
    "    clf.fit(X, y)\n",
    "    \n",
    "    return clf"
   ]
  },
  {
   "cell_type": "code",
   "execution_count": 25,
   "metadata": {},
   "outputs": [],
   "source": [
    "def score_clf(X_dict, y_dict, clf):\n",
    "    \n",
    "    print(\"reshape data...\")\n",
    "    X, y = converDictToArrAndAverageEmbedding(X_dict, y_dict)\n",
    "    print(\"X shape: \", X.shape)\n",
    "    print(\"y shape: \", y.shape)\n",
    "    \n",
    "    print(\"scoring svm...\")\n",
    "    res = clf.score(X, y)\n",
    "    \n",
    "    return res\n",
    "    "
   ]
  },
  {
   "cell_type": "code",
   "execution_count": 26,
   "metadata": {},
   "outputs": [],
   "source": [
    "from timeit import default_timer as timer\n",
    "from datetime import timedelta\n",
    "\n",
    "\n",
    "def svm_base_eval(model, task):\n",
    "\n",
    "    print(f\"svm_base_eval for model: {model}, task: {task}\")\n",
    "    print(\"===============================================\")\n",
    "    \n",
    "    print(\"\\nTRAIN\")\n",
    "    # fit svm for elmo, remote_homology data set\n",
    "    X_train = read_dataset(model, task, 'train')\n",
    "    y_train = read_dataset('label', task, 'train')\n",
    "\n",
    "    start = timer()\n",
    "    clf = fit_multiclass_svm(X_train, y_train)\n",
    "    end = timer()\n",
    "    print(\"fit time: \", timedelta(seconds=end-start))\n",
    "\n",
    "    print(\"\\nVALID\")\n",
    "    # validiate svm for elmo, remote_homology data set\n",
    "    X_valid = read_dataset(model, task, 'valid')\n",
    "    y_valid = read_dataset('label', task, 'valid')\n",
    "\n",
    "    valid_score = score_clf(X_valid, y_valid, clf)\n",
    "\n",
    "    print(f\"{model}  valid score: \", valid_score)\n",
    "\n",
    "    print(\"\\nTEST\")\n",
    "    # test svm for elmo, remote_homology data set\n",
    "    X_test = read_dataset(model, task, 'test')\n",
    "    y_test = read_dataset('label', task, 'test')\n",
    "\n",
    "    test_score = score_clf(X_test, y_test, clf)\n",
    "\n",
    "    print(f\"{model} test score: \", test_score)\n"
   ]
  },
  {
   "cell_type": "code",
   "execution_count": 41,
   "metadata": {},
   "outputs": [
    {
     "name": "stdout",
     "output_type": "stream",
     "text": [
      "svm_base_eval for model: unirep, task: remote_homology\n",
      "\n",
      "TRAIN\n",
      "reshape data...\n",
      "X shape:  (12305, 1900)\n",
      "y shape:  (12305,)\n",
      "fitting svm...\n",
      "fit time:  933.2880829999999\n",
      "\n",
      "VALID\n",
      "reshape data...\n",
      "X shape:  (734, 1900)\n",
      "y shape:  (734,)\n",
      "scoring svm...\n",
      "unirep  valid score:  0.2847411444141689\n",
      "\n",
      "TEST\n",
      "reshape data...\n",
      "X shape:  (718, 1900)\n",
      "y shape:  (718,)\n",
      "scoring svm...\n",
      "unirep test score:  0.21030640668523676\n"
     ]
    }
   ],
   "source": [
    "svm_base_eval(\"unirep\", \"remote_homology\")"
   ]
  },
  {
   "cell_type": "code",
   "execution_count": 46,
   "metadata": {},
   "outputs": [
    {
     "name": "stdout",
     "output_type": "stream",
     "text": [
      "svm_base_eval for model: elmo, task: remote_homology\n",
      "===============================================\n",
      "\n",
      "TRAIN\n",
      "reshape data...\n",
      "X shape:  (12305, 1024)\n",
      "y shape:  (12305,)\n",
      "fitting svm...\n",
      "fit time:  0:05:57.558450\n",
      "\n",
      "VALID\n",
      "reshape data...\n",
      "X shape:  (734, 1024)\n",
      "y shape:  (734,)\n",
      "scoring svm...\n",
      "elmo  valid score:  0.38419618528610355\n",
      "\n",
      "TEST\n",
      "reshape data...\n",
      "X shape:  (718, 1024)\n",
      "y shape:  (718,)\n",
      "scoring svm...\n",
      "elmo test score:  0.233983286908078\n"
     ]
    }
   ],
   "source": [
    "svm_base_eval(\"elmo\", \"remote_homology\")"
   ]
  }
 ],
 "metadata": {
  "kernelspec": {
   "display_name": "Python 3",
   "language": "python",
   "name": "python3"
  },
  "language_info": {
   "codemirror_mode": {
    "name": "ipython",
    "version": 3
   },
   "file_extension": ".py",
   "mimetype": "text/x-python",
   "name": "python",
   "nbconvert_exporter": "python",
   "pygments_lexer": "ipython3",
   "version": "3.8.3"
  }
 },
 "nbformat": 4,
 "nbformat_minor": 4
}
