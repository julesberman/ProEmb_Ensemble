{
 "cells": [
  {
   "cell_type": "code",
   "execution_count": 17,
   "metadata": {},
   "outputs": [],
   "source": [
    "import numpy as np\n",
    "from read_script import read_dataset\n",
    "\n",
    "# converts the dict to an array\n",
    "# averages protein embedding across sequence\n",
    "def converDictToArrAndAverageEmbedding(data_dict, labels, avg=True):\n",
    "\n",
    "    if avg:\n",
    "        emb_size = list(data_dict.values())[0].shape[1]\n",
    "    else:\n",
    "        emb_size = list(data_dict.values())[0].shape[0]\n",
    "        \n",
    "    X = np.zeros((len(data_dict), emb_size))\n",
    "    y = np.zeros(len(data_dict))\n",
    "    \n",
    "    i = 0\n",
    "    for key in data_dict:\n",
    "        if avg:\n",
    "            X[i] = np.mean(data_dict[key], axis=0)\n",
    "        else:\n",
    "            X[i] = data_dict[key]\n",
    "        y[i] = labels[key]\n",
    "        i += 1\n",
    "        \n",
    "    print(\"X shape: \", X.shape)    \n",
    "    print(\"y shape: \", y.shape)    \n",
    "    \n",
    "    return X, y\n",
    "\n",
    "\n",
    "from timeit import default_timer as timer\n",
    "from datetime import timedelta\n",
    "from sklearn.linear_model import LinearRegression\n",
    "from scipy import stats\n",
    "from sklearn.neural_network import MLPRegressor\n",
    "\n",
    "def linear_regression_base_eval(model, task, avg=True):\n",
    "\n",
    "    print(f\"linear_regression_base_eval for model: {model}, task: {task}\")\n",
    "    print(\"===============================================\")\n",
    "    \n",
    "    print(\"\\nTRAIN\")\n",
    "    X_train_dict = read_dataset(model, task, 'train')\n",
    "    y_train_dict = read_dataset('label', task, 'train')\n",
    "    print(\"reshape data...\")\n",
    "    X_train, y_train = converDictToArrAndAverageEmbedding(X_train_dict, y_train_dict, avg)\n",
    "\n",
    "    print(\"\\nfitting reg...\")\n",
    "    start = timer()\n",
    "    reg =  MLPRegressor(random_state=1, max_iter=500).fit(X_train, y_train)\n",
    "    end = timer()\n",
    "    print(\"fit time: \", timedelta(seconds=end-start))\n",
    "\n",
    "    print(\"\\nVALID\")\n",
    "    X_valid_dict = read_dataset(model, task, 'valid')\n",
    "    y_valid_dict = read_dataset('label', task, 'valid')\n",
    "    print(\"reshape data...\")\n",
    "    X_valid, y_valid = converDictToArrAndAverageEmbedding(X_valid_dict, y_valid_dict, avg)\n",
    "    print(\"score valid...\")\n",
    "    scores_valid = reg.predict(X_valid)\n",
    "    rho_valid = stats.spearmanr(y_valid, scores_valid)\n",
    "    print(\"spearman rho valid: \", rho_valid)\n",
    "    \n",
    "    \n",
    "    print(\"\\nTEST\")\n",
    "    X_test_dict = read_dataset(model, task, 'test')\n",
    "    y_test_dict = read_dataset('label', task, 'test')\n",
    "    print(\"reshape data...\")\n",
    "    X_test, y_test = converDictToArrAndAverageEmbedding(X_test_dict, y_test_dict, avg)\n",
    "    print(\"score test...\")\n",
    "    scores_test = reg.predict(X_test)\n",
    "    rho_test = stats.spearmanr(y_test, scores_test)\n",
    "    print(\"spearman rho test: \", rho_test)\n",
    "\n",
    "\n"
   ]
  },
  {
   "cell_type": "code",
   "execution_count": 18,
   "metadata": {},
   "outputs": [
    {
     "name": "stdout",
     "output_type": "stream",
     "text": [
      "linear_regression_base_eval for model: elmo, task: stability\n",
      "===============================================\n",
      "\n",
      "TRAIN\n",
      "reshape data...\n",
      "X shape:  (50473, 1024)\n",
      "y shape:  (50473,)\n",
      "\n",
      "fitting reg...\n",
      "fit time:  0:10:21.266920\n",
      "\n",
      "VALID\n",
      "reshape data...\n",
      "X shape:  (2512, 1024)\n",
      "y shape:  (2512,)\n",
      "score valid...\n",
      "spearman rho valid:  SpearmanrResult(correlation=0.6156721719480129, pvalue=4.9721998458262346e-262)\n",
      "\n",
      "TEST\n",
      "reshape data...\n",
      "X shape:  (12851, 1024)\n",
      "y shape:  (12851,)\n",
      "score test...\n",
      "spearman rho test:  SpearmanrResult(correlation=0.439839218865642, pvalue=0.0)\n"
     ]
    }
   ],
   "source": [
    "linear_regression_base_eval(\"elmo\", \"stability\")"
   ]
  },
  {
   "cell_type": "code",
   "execution_count": 19,
   "metadata": {},
   "outputs": [
    {
     "name": "stdout",
     "output_type": "stream",
     "text": [
      "linear_regression_base_eval for model: unirep, task: stability\n",
      "===============================================\n",
      "\n",
      "TRAIN\n",
      "reshape data...\n",
      "X shape:  (50473, 1900)\n",
      "y shape:  (50473,)\n",
      "\n",
      "fitting reg...\n",
      "fit time:  0:47:15.588245\n",
      "\n",
      "VALID\n",
      "reshape data...\n",
      "X shape:  (2512, 1900)\n",
      "y shape:  (2512,)\n",
      "score valid...\n",
      "spearman rho valid:  SpearmanrResult(correlation=0.585409959447197, pvalue=5.292124675003061e-231)\n",
      "\n",
      "TEST\n",
      "reshape data...\n",
      "X shape:  (12851, 1900)\n",
      "y shape:  (12851,)\n",
      "score test...\n",
      "spearman rho test:  SpearmanrResult(correlation=0.29860900087638365, pvalue=6.099808752913723e-263)\n"
     ]
    }
   ],
   "source": [
    "linear_regression_base_eval(\"unirep\", \"stability\")"
   ]
  },
  {
   "cell_type": "code",
   "execution_count": 20,
   "metadata": {},
   "outputs": [
    {
     "name": "stdout",
     "output_type": "stream",
     "text": [
      "linear_regression_base_eval for model: compact, task: stability\n",
      "===============================================\n",
      "\n",
      "TRAIN\n",
      "reshape data...\n",
      "X shape:  (50473, 64)\n",
      "y shape:  (50473,)\n",
      "\n",
      "fitting reg...\n",
      "fit time:  0:00:42.082265\n",
      "\n",
      "VALID\n",
      "reshape data...\n",
      "X shape:  (2512, 64)\n",
      "y shape:  (2512,)\n",
      "score valid...\n",
      "spearman rho valid:  SpearmanrResult(correlation=0.4503402875654906, pvalue=1.0243134823687443e-125)\n",
      "\n",
      "TEST\n",
      "reshape data...\n",
      "X shape:  (12851, 64)\n",
      "y shape:  (12851,)\n",
      "score test...\n",
      "spearman rho test:  SpearmanrResult(correlation=0.08562387954793516, pvalue=2.3956862733105413e-22)\n"
     ]
    }
   ],
   "source": [
    "linear_regression_base_eval(\"compact\", \"stability\", avg=False)"
   ]
  },
  {
   "cell_type": "code",
   "execution_count": null,
   "metadata": {},
   "outputs": [],
   "source": []
  }
 ],
 "metadata": {
  "kernelspec": {
   "display_name": "Python 3",
   "language": "python",
   "name": "python3"
  },
  "language_info": {
   "codemirror_mode": {
    "name": "ipython",
    "version": 3
   },
   "file_extension": ".py",
   "mimetype": "text/x-python",
   "name": "python",
   "nbconvert_exporter": "python",
   "pygments_lexer": "ipython3",
   "version": "3.8.3"
  }
 },
 "nbformat": 4,
 "nbformat_minor": 4
}
