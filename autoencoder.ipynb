{
 "cells": [
  {
   "cell_type": "code",
   "execution_count": 1,
   "metadata": {},
   "outputs": [],
   "source": [
    "%matplotlib inline\n",
    "import os\n",
    "import sys\n",
    "import logging\n",
    "logging.basicConfig(format='%(asctime)s %(message)s', stream=sys.stdout)\n",
    "\n",
    "import torch as T\n",
    "import torch.nn as nn\n",
    "import torch.nn.functional as F\n",
    "from torch.utils.data import DataLoader\n",
    "\n",
    "import numpy as np\n",
    "from tqdm import tqdm_notebook as tqdm\n",
    "\n",
    "from sklearn import preprocessing\n",
    "from sklearn.svm import LinearSVC\n",
    "from sklearn.multiclass import OneVsRestClassifier"
   ]
  },
  {
   "cell_type": "code",
   "execution_count": 2,
   "metadata": {},
   "outputs": [],
   "source": [
    "def read_dataset(model: str, task: str, split: str,  basepath='/scratch/fl1092/ml_protein_data'):\n",
    "    path_to_file = f'{basepath}/{model}/{task}/{task}_{split}.p'\n",
    "    data = np.load(path_to_file, allow_pickle=True)\n",
    "    \n",
    "    return data\n",
    "\n",
    "def dict_2_arr(data_dict, labels, avgr=lambda x: np.mean(x, axis=0)):\n",
    "    \n",
    "    emb_shape = list(data_dict.values())[0].shape\n",
    "    number_of_embeddings = len(data_dict) \n",
    "\n",
    "    X = np.zeros((number_of_embeddings, emb_shape[-1]))\n",
    "    y = np.zeros(number_of_embeddings)\n",
    "    \n",
    "    i = 0\n",
    "\n",
    "    # iter over sorted keys in labels to ensure proteins\n",
    "    # from different models are indexed the same\n",
    "    keys = list(labels.keys())\n",
    "    keys.sort()\n",
    "    for key in keys :\n",
    "        if key == 'd1smyc_':\n",
    "            continue\n",
    "        X[i] = avgr(data_dict[key])\n",
    "        y[i] = labels[key]\n",
    "        i += 1\n",
    "        \n",
    "    return X, y\n",
    "\n",
    "def ensemble_append_mean_reps(dicts, labels, LEN, average=True, normalize=True):\n",
    "    # if average set to False, output 2d arrays for each sequence without averaging\n",
    "    keys = dicts[0].keys()\n",
    "    \n",
    "    # combine two dictionary into one by concatenating\n",
    "    new_dict = dict()\n",
    "    for key in keys:\n",
    "        seqs = []\n",
    "        for d in dicts:\n",
    "            \n",
    "            # 1d or 2d\n",
    "            if average:\n",
    "                seq = np.mean(d[key], axis=0)\n",
    "            else:\n",
    "                seq = d[key]\n",
    "                if seq.shape[0] < LEN:\n",
    "                    seq = np.concatenate([seq, np.zeros((LEN-seq.shape[0], seq.shape[1]))], axis=0)\n",
    "                elif seq.shape[0] > LEN:\n",
    "                    seq = seq[:LEN, ]\n",
    "                \n",
    "            # normalize or not\n",
    "            if normalize:\n",
    "                seq = preprocessing.normalize([seq], norm='l2')\n",
    "            \n",
    "            seqs.append(seq)\n",
    "        combined_seqs = np.concatenate(seqs, axis=1)\n",
    "        new_dict[key] = combined_seqs\n",
    "\n",
    "    emb_size = combined_seqs.shape\n",
    "    if average:\n",
    "        X = np.zeros((len(new_dict), emb_size))\n",
    "    else:\n",
    "        d1, d2 = emb_size\n",
    "        X = np.zeros((len(new_dict), d1, d2))\n",
    "    y = np.zeros(len(new_dict))\n",
    "    \n",
    "    i = 0\n",
    "    for key in new_dict:\n",
    "        X[i] = new_dict[key]\n",
    "        y[i] = labels[key]\n",
    "        i += 1\n",
    "        \n",
    "    return X, y"
   ]
  },
  {
   "cell_type": "code",
   "execution_count": 3,
   "metadata": {},
   "outputs": [],
   "source": [
    "class DataSet(T.utils.data.Dataset):\n",
    "    ### a Map-style dataset ###\n",
    "    \n",
    "    def __init__(self, task, device, average=True, normalize=True):\n",
    "        self.models = ['elmo','unirep'] # \n",
    "        self.splits = ['train', 'test']\n",
    "        self.x_data = {}\n",
    "        self.y_data = {}\n",
    "        self.LEN = 256\n",
    "        self.split = None # the split of the current data\n",
    "        \n",
    "        for split in self.splits:\n",
    "            # load y\n",
    "            y_data = read_dataset('label', task, split)\n",
    "            \n",
    "            # load x\n",
    "            to_append = []\n",
    "            for model in self.models:\n",
    "                data = read_dataset(model, task, split)\n",
    "                to_append.append(data)\n",
    "                \n",
    "            # concatnate\n",
    "            X_app, self.y_data[split] = ensemble_append_mean_reps(to_append, y_data, self.LEN, average, normalize)\n",
    "            print(X_app.shape)\n",
    "            X_app = X_app.reshape((X_app.shape[0], 1, X_app.shape[1], X_app.shape[2]))\n",
    "            self.x_data[split] = T.tensor(X_app, dtype=T.float32) # .to(device)\n",
    "            \n",
    "    def get_split(self, split):\n",
    "        assert(split in self.splits)\n",
    "        self.split = split\n",
    "        \n",
    "    def lenLongestSeq(self, task):\n",
    "        # find the length of the longest sequence\n",
    "        # TODO: trim and pad everyting to 95% interval\n",
    "        LEN = -1\n",
    "        for split in self.splits:\n",
    "            for model in self.models:\n",
    "                data = read_dataset(model, task, split)\n",
    "                \n",
    "                length = -1\n",
    "                for key, embedding in data.items():\n",
    "                    length = max(length, embedding.shape[0])\n",
    "                \n",
    "                print(f\"Longest sequence in {model} {split}: {length}\")\n",
    "                    \n",
    "                LEN = max(LEN, length)\n",
    "        \n",
    "        return LEN\n",
    "    \n",
    "    def lenRangeSeq(self, task, p=0.05):\n",
    "        # return the uper p-th percentile\n",
    "        lens = []\n",
    "        \n",
    "        for split in self.splits:\n",
    "            for model in self.models:\n",
    "                data = read_dataset(model, task, split)\n",
    "                \n",
    "                for key, embedding in data.items():\n",
    "                    lens.append(embedding.shape[0])\n",
    "                    \n",
    "        return \n",
    "        \n",
    "    def __len__(self):\n",
    "        return len(self.x_data[self.split])\n",
    "\n",
    "    def __getitem__(self, idx):\n",
    "        if T.is_tensor(idx):\n",
    "            idx = idx.tolist()\n",
    "        \n",
    "        x = self.x_data[self.split][idx, ]\n",
    "        y = self.y_data[self.split][idx]\n",
    "        \n",
    "        return x, y"
   ]
  },
  {
   "cell_type": "code",
   "execution_count": 12,
   "metadata": {},
   "outputs": [],
   "source": [
    "### encoder and decoder with two convolutional layers ###\n",
    "\n",
    "class ConvEncoder(nn.Module):\n",
    "    def __init__(self, c=10, latent_dims=512):\n",
    "        super(ConvEncoder, self).__init__()\n",
    "        self.conv1 = nn.Conv2d(in_channels=1, out_channels=c, kernel_size=4, stride=4, padding=1) # out: c x 14 x 14\n",
    "        self.conv2 = nn.Conv2d(in_channels=c, out_channels=c*2, kernel_size=4, stride=4, padding=1) # out: c x 7 x 7\n",
    "        self.fc = nn.Linear(in_features=c*2*16*183, out_features=latent_dims)\n",
    "            \n",
    "    def forward(self, x):\n",
    "        #print(list(x.size()))\n",
    "        x = F.relu(self.conv1(x))\n",
    "        #print(list(x.size()))\n",
    "        x = F.relu(self.conv2(x))\n",
    "        #print(list(x.size()))\n",
    "        x = x.view(x.size(0), -1) # flatten batch of multi-channel feature maps to a batch of feature vectors\n",
    "        #print(list(x.size()))\n",
    "        x = self.fc(x)\n",
    "        #print(list(x.size()))\n",
    "        return x\n",
    "\n",
    "class ConvDecoder(nn.Module):\n",
    "    def __init__(self, c=10, latent_dims=512):\n",
    "        super(ConvDecoder, self).__init__()\n",
    "        self.c = c\n",
    "        self.fc = nn.Linear(in_features=latent_dims, out_features=c*2*16*183)\n",
    "        self.conv2 = nn.ConvTranspose2d(in_channels=c*2, out_channels=c, kernel_size=4, stride=4, padding=1)\n",
    "        self.conv1 = nn.ConvTranspose2d(in_channels=c, out_channels=1, kernel_size=4, stride=4, padding=1)\n",
    "            \n",
    "    def forward(self, x):\n",
    "        #print(list(x.size()))\n",
    "        x = self.fc(x)\n",
    "        #print(list(x.size()))\n",
    "        # unflatten batch of feature vectors to a batch of multi-channel feature maps\n",
    "        x = x.view(x.size(0), self.c*2, 16, 183)\n",
    "        #print(list(x.size()))\n",
    "        x = F.relu(self.conv2(x, output_size=[128, 10, 64, 731]))\n",
    "        #print(list(x.size()))\n",
    "        # last layer before output is tanh, since the images are normalized and 0-centered\n",
    "        x = T.tanh(self.conv1(x, output_size=[128, 1, 256, 2924]))\n",
    "        #print(list(x.size()))\n",
    "        return x"
   ]
  },
  {
   "cell_type": "code",
   "execution_count": 5,
   "metadata": {},
   "outputs": [],
   "source": [
    "### encoder and decoder with fully connected layers only ###\n",
    "\n",
    "class Encoder(nn.Module):\n",
    "    def __init__(self, input_shape):\n",
    "        super(Encoder, self).__init__()\n",
    "        self.fc1 = nn.Linear(in_features=input_shape, out_features=600)\n",
    "        self.fc2 = nn.Linear(in_features=1024, out_features=128)\n",
    "        self.fc3 = nn.Linear(in_features=128, out_features=128)\n",
    "            \n",
    "    def forward(self, x):\n",
    "        x = F.relu(self.fc1(x))\n",
    "        #x = F.relu(self.fc2(x))\n",
    "        #x = self.fc3(x)\n",
    "        return x\n",
    "\n",
    "class Decoder(nn.Module):\n",
    "    def __init__(self, input_shape):\n",
    "        super(Decoder, self).__init__()\n",
    "        #self.fc1 = nn.Linear(in_features=128, out_features=128)\n",
    "        #self.fc2 = nn.Linear(in_features=128, out_features=1024)\n",
    "        self.fc3 = nn.Linear(in_features=600, out_features=input_shape)\n",
    "            \n",
    "    def forward(self, x):\n",
    "        #x = F.relu(self.fc1(x))\n",
    "        #x = F.relu(self.fc2(x))\n",
    "        x = F.relu(self.fc3(x))\n",
    "        return x"
   ]
  },
  {
   "cell_type": "code",
   "execution_count": 6,
   "metadata": {},
   "outputs": [],
   "source": [
    "class Autoencoder(nn.Module):\n",
    "    def __init__(self, input_shape, conv=False):\n",
    "        super(Autoencoder, self).__init__()\n",
    "        if conv:\n",
    "            self.encoder = ConvEncoder()\n",
    "            self.decoder = ConvDecoder()\n",
    "        else:\n",
    "            self.encoder = Encoder(input_shape)\n",
    "            self.decoder = Decoder(input_shape)\n",
    "    \n",
    "    def forward(self, x):\n",
    "        latent = self.encoder(x)\n",
    "        x_recon = self.decoder(latent)\n",
    "        return x_recon"
   ]
  },
  {
   "cell_type": "code",
   "execution_count": 7,
   "metadata": {},
   "outputs": [],
   "source": [
    "### loss functions ###\n",
    "\n",
    "def caemeLoss(outputs, batch_features, latent, d1, d2, l1=1, l2=1, l3=1):\n",
    "    mse = nn.MSELoss()\n",
    "    o1 = outputs[:, 0:d1]\n",
    "    o2 = outputs[:, d1:d1+d2]\n",
    "    f1 = batch_features[:, 0:d1]\n",
    "    f2 = batch_features[:, d1:d1+d2] \n",
    "    \n",
    "    return l1*mse(o1, f1) + l2*mse(o2, f2)\n",
    "\n",
    "def mseLoss(outputs, batch_features, latent, d1, d2, l1=1, l2=1, l3=1):\n",
    "    # mean-squared error loss\n",
    "    mse = nn.MSELoss() \n",
    "    \n",
    "    return mse(outputs, batch_features)"
   ]
  },
  {
   "cell_type": "code",
   "execution_count": 8,
   "metadata": {},
   "outputs": [],
   "source": [
    "### pipeline for training meta embedding and classifying ###\n",
    "def metaEmbedding(data, model):\n",
    "    X_latent = []\n",
    "    Y = []\n",
    "\n",
    "    for i in range(len(data)):\n",
    "        x, y = data[i]\n",
    "        X_latent.append(model.encoder(x).cpu().detach().numpy())\n",
    "        Y.append(y)\n",
    "        \n",
    "    return X_latent, Y\n",
    "\n",
    "def autoencoderPipeline(task, num_epochs=30, learning_rate=1e-3, batch_size=128, loss_function=mseLoss):\n",
    "    device = T.device('cuda')\n",
    "    \n",
    "    print('Loading data ...')\n",
    "    train_data = DataSet(task, 'train', device)\n",
    "    test_data = DataSet('remote_homology', 'test', device)\n",
    "    train_dataloader = DataLoader(train_data, batch_size=batch_size, shuffle=True)\n",
    "    \n",
    "    model = Autoencoder(2924).to(device)\n",
    "    optimizer = T.optim.Adam(params=model.parameters(), lr=learning_rate, weight_decay=1e-7)\n",
    "    \n",
    "    print('Training autoencoder...')\n",
    "    for epoch in tqdm(range(num_epochs)):\n",
    "        loss = 0\n",
    "        for batch_features, _ in train_dataloader:\n",
    "            \n",
    "            batch_features = batch_features.to(device) # load data to GPU\n",
    "            optimizer.zero_grad() # reset the gradients back to zero\n",
    "            \n",
    "            outputs = model(batch_features) # compute reconstructions\n",
    "            latent = model.encoder(batch_features) # compute latent meta embedding\n",
    "            \n",
    "            train_loss = loss_function(outputs, batch_features, latent, 1024, 1900) # compute training loss\n",
    "            train_loss.backward() # compute accumulated gradients\n",
    "            optimizer.step() # perform parameter update based on current gradients\n",
    "            loss += train_loss.item() # add the mini-batch training loss to epoch loss\n",
    "\n",
    "        loss = loss / len(train_dataloader) # compute the epoch training loss\n",
    "\n",
    "        if epoch %3 == 0:\n",
    "            print(\"epoch : {}/{}, loss = {:.6f}\".format(epoch + 1, num_epochs, loss))\n",
    "            \n",
    "    print('Training classifier ...')\n",
    "    \n",
    "    test_x_latent, test_y = metaEmbedding(test_data, model)\n",
    "    train_x_latent, train_y = metaEmbedding(train_data, model)\n",
    "    \n",
    "    clf = OneVsRestClassifier(LinearSVC())\n",
    "    clf.fit(train_x_latent, train_y)\n",
    "    score = clf.score(test_x_latent, test_y)\n",
    "    \n",
    "    print(f\"Score on test set: {score}\")"
   ]
  },
  {
   "cell_type": "code",
   "execution_count": null,
   "metadata": {},
   "outputs": [],
   "source": []
  },
  {
   "cell_type": "code",
   "execution_count": 9,
   "metadata": {},
   "outputs": [
    {
     "name": "stdout",
     "output_type": "stream",
     "text": [
      "Loading data ...\n",
      "(12305, 256, 2924)\n",
      "(718, 256, 2924)\n"
     ]
    }
   ],
   "source": [
    "task = 'remote_homology'\n",
    "batch_size = 128\n",
    "\n",
    "device = T.device('cuda')\n",
    " \n",
    "print('Loading data ...')\n",
    "\n",
    "train_data = DataSet(task, device, average=False, normalize=False)\n",
    "train_data.get_split('train')\n",
    "#test_data = dataset.get_split('test')\n",
    "\n",
    "#train_data = DataSet(task, 'train', device, average=False, normalize=False)\n",
    "#test_data = DataSet('remote_homology', 'test', device, average=False, normalize=False)\n",
    "\n",
    "train_dataloader = DataLoader(train_data, batch_size=batch_size, shuffle=True)"
   ]
  },
  {
   "cell_type": "code",
   "execution_count": 13,
   "metadata": {
    "scrolled": true
   },
   "outputs": [
    {
     "data": {
      "text/plain": [
       "12305"
      ]
     },
     "execution_count": 13,
     "metadata": {},
     "output_type": "execute_result"
    }
   ],
   "source": [
    "len(train_data)"
   ]
  },
  {
   "cell_type": "code",
   "execution_count": 14,
   "metadata": {},
   "outputs": [
    {
     "name": "stdout",
     "output_type": "stream",
     "text": [
      "Training autoencoder...\n"
     ]
    },
    {
     "data": {
      "application/vnd.jupyter.widget-view+json": {
       "model_id": "4706b5320ba34f4a87cfd6a2eea947d8",
       "version_major": 2,
       "version_minor": 0
      },
      "text/plain": [
       "HBox(children=(IntProgress(value=0, max=30), HTML(value='')))"
      ]
     },
     "metadata": {},
     "output_type": "display_data"
    },
    {
     "name": "stdout",
     "output_type": "stream",
     "text": [
      "epoch : 1/30, loss = 0.039268\n",
      "epoch : 4/30, loss = 0.028136\n",
      "epoch : 7/30, loss = 0.026217\n",
      "epoch : 10/30, loss = 0.025530\n",
      "epoch : 13/30, loss = 0.025254\n",
      "epoch : 16/30, loss = 0.025204\n",
      "epoch : 19/30, loss = 0.025138\n",
      "epoch : 22/30, loss = 0.025105\n",
      "epoch : 25/30, loss = 0.025035\n",
      "epoch : 28/30, loss = 0.025018\n",
      "\n"
     ]
    }
   ],
   "source": [
    "learning_rate = 1e-3\n",
    "num_epochs = 30\n",
    "model = Autoencoder(2924, conv=True).to(device)\n",
    "optimizer = T.optim.Adam(params=model.parameters(), lr=learning_rate, weight_decay=1e-7)\n",
    "loss_function = mseLoss\n",
    "\n",
    "print('Training autoencoder...')\n",
    "for epoch in tqdm(range(num_epochs)):\n",
    "    loss = 0\n",
    "    for batch_features, _ in train_dataloader:\n",
    "\n",
    "        batch_features = batch_features.to(device) # load data to GPU\n",
    "        optimizer.zero_grad() # reset the gradients back to zero\n",
    "\n",
    "        outputs = model(batch_features) # compute reconstructions\n",
    "        latent = model.encoder(batch_features) # compute latent meta embedding\n",
    "        # print(list(outputs.size()), list(batch_features.size()))\n",
    "        \n",
    "        train_loss = loss_function(outputs, batch_features, latent, 1024, 1900) # compute training loss\n",
    "        train_loss.backward() # compute accumulated gradients\n",
    "        optimizer.step() # perform parameter update based on current gradients\n",
    "        loss += train_loss.item() # add the mini-batch training loss to epoch loss\n",
    "\n",
    "    loss = loss / len(train_dataloader) # compute the epoch training loss\n",
    "\n",
    "    if epoch %3 == 0:\n",
    "        print(\"epoch : {}/{}, loss = {:.6f}\".format(epoch + 1, num_epochs, loss))"
   ]
  },
  {
   "cell_type": "code",
   "execution_count": 15,
   "metadata": {},
   "outputs": [
    {
     "name": "stdout",
     "output_type": "stream",
     "text": [
      "(12305, 256, 2924)\n",
      "(718, 256, 2924)\n"
     ]
    }
   ],
   "source": [
    "test_data = DataSet(task, device, average=False, normalize=False)\n",
    "test_data.get_split('test')"
   ]
  },
  {
   "cell_type": "code",
   "execution_count": 16,
   "metadata": {},
   "outputs": [
    {
     "data": {
      "text/plain": [
       "718"
      ]
     },
     "execution_count": 16,
     "metadata": {},
     "output_type": "execute_result"
    }
   ],
   "source": [
    "len(test_data)"
   ]
  },
  {
   "cell_type": "code",
   "execution_count": 17,
   "metadata": {},
   "outputs": [],
   "source": [
    "def metaEmbedding(data, model):\n",
    "    X_latent = []\n",
    "    Y = []\n",
    "\n",
    "    for i in range(len(data)):\n",
    "        x, y = data[i]\n",
    "        x = x.reshape(1, x.size()[0], x.size()[1], x.size()[2]).to(device)\n",
    "        X_latent.append(model.encoder(x).cpu().detach().numpy()[0])\n",
    "        Y.append(y)\n",
    "        \n",
    "    return X_latent, Y"
   ]
  },
  {
   "cell_type": "code",
   "execution_count": 22,
   "metadata": {},
   "outputs": [],
   "source": [
    "from sklearn.pipeline import make_pipeline\n",
    "from sklearn.preprocessing import StandardScaler\n",
    "from sklearn.linear_model import LogisticRegression"
   ]
  },
  {
   "cell_type": "code",
   "execution_count": 19,
   "metadata": {},
   "outputs": [
    {
     "name": "stdout",
     "output_type": "stream",
     "text": [
      "CPU times: user 17.9 s, sys: 9.03 s, total: 26.9 s\n",
      "Wall time: 27.7 s\n"
     ]
    }
   ],
   "source": [
    "%%time\n",
    "test_x_latent, test_y = metaEmbedding(test_data, model)\n",
    "train_x_latent, train_y = metaEmbedding(train_data, model)"
   ]
  },
  {
   "cell_type": "code",
   "execution_count": 26,
   "metadata": {},
   "outputs": [
    {
     "name": "stdout",
     "output_type": "stream",
     "text": [
      "CPU times: user 39min 17s, sys: 55.4 s, total: 40min 13s\n",
      "Wall time: 40min 18s\n"
     ]
    }
   ],
   "source": [
    "%%time\n",
    "clf = make_pipeline(StandardScaler(), OneVsRestClassifier(LogisticRegression(solver='liblinear')))\n",
    "clf.fit(train_x_latent, train_y)\n",
    "score = clf.score(test_x_latent, test_y)"
   ]
  },
  {
   "cell_type": "code",
   "execution_count": 27,
   "metadata": {},
   "outputs": [
    {
     "data": {
      "text/plain": [
       "0.2479108635097493"
      ]
     },
     "execution_count": 27,
     "metadata": {},
     "output_type": "execute_result"
    }
   ],
   "source": [
    "score"
   ]
  },
  {
   "cell_type": "code",
   "execution_count": null,
   "metadata": {},
   "outputs": [],
   "source": []
  },
  {
   "cell_type": "markdown",
   "metadata": {},
   "source": [
    "# Experiments"
   ]
  },
  {
   "cell_type": "code",
   "execution_count": 13,
   "metadata": {},
   "outputs": [
    {
     "name": "stdout",
     "output_type": "stream",
     "text": [
      "Loading data ...\n",
      "Training autoencoder...\n"
     ]
    },
    {
     "data": {
      "application/vnd.jupyter.widget-view+json": {
       "model_id": "2f695e07470d428089c9607e793f2730",
       "version_major": 2,
       "version_minor": 0
      },
      "text/plain": [
       "HBox(children=(IntProgress(value=0, max=30), HTML(value='')))"
      ]
     },
     "metadata": {},
     "output_type": "display_data"
    },
    {
     "name": "stdout",
     "output_type": "stream",
     "text": [
      "epoch : 1/30, loss = 0.000525\n",
      "epoch : 4/30, loss = 0.000464\n",
      "epoch : 7/30, loss = 0.000450\n",
      "epoch : 10/30, loss = 0.000443\n",
      "epoch : 13/30, loss = 0.000440\n",
      "epoch : 16/30, loss = 0.000439\n",
      "epoch : 19/30, loss = 0.000438\n",
      "epoch : 22/30, loss = 0.000437\n",
      "epoch : 25/30, loss = 0.000437\n",
      "epoch : 28/30, loss = 0.000437\n",
      "\n",
      "Training classifier ...\n",
      "Score on test set: 0.25487465181058494\n",
      "CPU times: user 3min 50s, sys: 35.7 s, total: 4min 26s\n",
      "Wall time: 4min 25s\n"
     ]
    }
   ],
   "source": [
    "%%time\n",
    "autoencoderPipeline('remote_homology', loss_function=mseLoss)"
   ]
  },
  {
   "cell_type": "code",
   "execution_count": 14,
   "metadata": {},
   "outputs": [
    {
     "name": "stdout",
     "output_type": "stream",
     "text": [
      "Loading data ...\n",
      "Training autoencoder...\n"
     ]
    },
    {
     "data": {
      "application/vnd.jupyter.widget-view+json": {
       "model_id": "54358dc23516430cab40bfaec8c7d3b1",
       "version_major": 2,
       "version_minor": 0
      },
      "text/plain": [
       "HBox(children=(IntProgress(value=0, max=30), HTML(value='')))"
      ]
     },
     "metadata": {},
     "output_type": "display_data"
    },
    {
     "name": "stdout",
     "output_type": "stream",
     "text": [
      "epoch : 1/30, loss = 0.001178\n",
      "epoch : 4/30, loss = 0.001067\n",
      "epoch : 7/30, loss = 0.001046\n",
      "epoch : 10/30, loss = 0.001031\n",
      "epoch : 13/30, loss = 0.001025\n",
      "epoch : 16/30, loss = 0.001021\n",
      "epoch : 19/30, loss = 0.001018\n",
      "epoch : 22/30, loss = 0.001015\n",
      "epoch : 25/30, loss = 0.001014\n",
      "epoch : 28/30, loss = 0.001013\n",
      "\n",
      "Training classifier ...\n",
      "Score on test set: 0.2646239554317549\n",
      "CPU times: user 3min 49s, sys: 36 s, total: 4min 25s\n",
      "Wall time: 4min 24s\n"
     ]
    }
   ],
   "source": [
    "%%time\n",
    "autoencoderPipeline('remote_homology', loss_function=caemeLoss)"
   ]
  },
  {
   "cell_type": "code",
   "execution_count": null,
   "metadata": {},
   "outputs": [],
   "source": []
  },
  {
   "cell_type": "code",
   "execution_count": null,
   "metadata": {},
   "outputs": [],
   "source": []
  }
 ],
 "metadata": {
  "kernelspec": {
   "display_name": "Python 3",
   "language": "python",
   "name": "python3"
  },
  "language_info": {
   "codemirror_mode": {
    "name": "ipython",
    "version": 3
   },
   "file_extension": ".py",
   "mimetype": "text/x-python",
   "name": "python",
   "nbconvert_exporter": "python",
   "pygments_lexer": "ipython3",
   "version": "3.6.5"
  }
 },
 "nbformat": 4,
 "nbformat_minor": 2
}
