{
 "cells": [
  {
   "cell_type": "code",
   "execution_count": 1,
   "metadata": {},
   "outputs": [],
   "source": [
    "%matplotlib inline\n",
    "import os\n",
    "import sys\n",
    "import logging\n",
    "logging.basicConfig(format='%(asctime)s %(message)s', stream=sys.stdout)\n",
    "\n",
    "import torch as T\n",
    "import torch.nn as nn\n",
    "import torch.nn.functional as F\n",
    "from torch.utils.data import DataLoader\n",
    "\n",
    "import numpy as np\n",
    "from tqdm import tqdm_notebook as tqdm\n",
    "\n",
    "from sklearn import preprocessing\n",
    "from sklearn.svm import LinearSVC\n",
    "from sklearn.multiclass import OneVsRestClassifier"
   ]
  },
  {
   "cell_type": "code",
   "execution_count": 2,
   "metadata": {},
   "outputs": [],
   "source": [
    "def read_dataset(model: str, task: str, split: str,  basepath='/scratch/fl1092/ml_protein_data'):\n",
    "    path_to_file = f'{basepath}/{model}/{task}/{task}_{split}.p'\n",
    "    data = np.load(path_to_file, allow_pickle=True)\n",
    "    \n",
    "    return data\n",
    "\n",
    "def dict_2_arr(data_dict, labels, avgr=lambda x: np.mean(x, axis=0)):\n",
    "    \n",
    "    emb_shape = list(data_dict.values())[0].shape\n",
    "    number_of_embeddings = len(data_dict) \n",
    "\n",
    "    X = np.zeros((number_of_embeddings, emb_shape[-1]))\n",
    "    y = np.zeros(number_of_embeddings)\n",
    "    \n",
    "    i = 0\n",
    "\n",
    "    # iter over sorted keys in labels to ensure proteins\n",
    "    # from different models are indexed the same\n",
    "    keys = list(labels.keys())\n",
    "    keys.sort()\n",
    "    for key in keys :\n",
    "        if key == 'd1smyc_':\n",
    "            continue\n",
    "        X[i] = avgr(data_dict[key])\n",
    "        y[i] = labels[key]\n",
    "        i += 1\n",
    "        \n",
    "    return X, y\n",
    "\n",
    "def ensemble_append_mean_reps(dicts, labels):\n",
    "    \n",
    "    new_dict = dict()\n",
    "    keys = dicts[0].keys()\n",
    "    for key in keys:\n",
    "        seqs = []\n",
    "        for d in dicts:\n",
    "            seq = np.mean(d[key], axis=0)\n",
    "            seq = preprocessing.normalize([seq], norm='l2')\n",
    "            seqs.append(seq)\n",
    "        combined_seqs = np.concatenate(seqs, axis=1)\n",
    "        new_dict[key] = combined_seqs\n",
    "\n",
    "    emb_size = list(new_dict.values())[0].shape[1]\n",
    "    X = np.zeros((len(new_dict), emb_size))\n",
    "    y = np.zeros(len(new_dict))\n",
    "    \n",
    "    i = 0\n",
    "    for key in new_dict:\n",
    "        X[i] = new_dict[key]\n",
    "        y[i] = labels[key]\n",
    "        i += 1\n",
    "        \n",
    "    return X, y"
   ]
  },
  {
   "cell_type": "code",
   "execution_count": 3,
   "metadata": {},
   "outputs": [],
   "source": [
    "class DataSet(T.utils.data.Dataset):\n",
    "    ### a Map-style dataset ###\n",
    "    \n",
    "    def __init__(self, task, split, device):\n",
    "        self.elmo_train = read_dataset('elmo', task, split)\n",
    "        self.unirep_train = read_dataset('unirep', task, split)\n",
    "        self.y_data = read_dataset('label', task, split)\n",
    "        \n",
    "        X_app, self.y_data = ensemble_append_mean_reps([self.elmo_train, self.unirep_train], self.y_data)\n",
    "        self.x_data = T.tensor(X_app, dtype=T.float32).to(device)\n",
    "        \n",
    "    def __len__(self):\n",
    "        return len(self.x_data)\n",
    "\n",
    "    def __getitem__(self, idx):\n",
    "        if T.is_tensor(idx):\n",
    "            idx = idx.tolist()\n",
    "        \n",
    "        x = self.x_data[idx, ]\n",
    "        y = self.y_data[idx]\n",
    "        \n",
    "        return x, y"
   ]
  },
  {
   "cell_type": "code",
   "execution_count": 4,
   "metadata": {},
   "outputs": [],
   "source": [
    "### encoder and decoder with two convolutional layers ###\n",
    "\n",
    "class ConvEncoder(nn.Module):\n",
    "    def __init__(self):\n",
    "        super(Encoder, self).__init__()\n",
    "        c = capacity\n",
    "        self.conv1 = nn.Conv1d(in_channels=1, out_channels=c, kernel_size=4, stride=2, padding=1) # out: c x 14 x 14\n",
    "        self.conv2 = nn.Conv1d(in_channels=c, out_channels=c*2, kernel_size=4, stride=2, padding=1) # out: c x 7 x 7\n",
    "        self.fc = nn.Linear(in_features=c*2*7*7, out_features=latent_dims)\n",
    "            \n",
    "    def forward(self, x):\n",
    "        x = F.relu(self.conv1(x))\n",
    "        x = F.relu(self.conv2(x))\n",
    "        x = x.view(x.size(0), -1) # flatten batch of multi-channel feature maps to a batch of feature vectors\n",
    "        x = self.fc(x)\n",
    "        return x\n",
    "\n",
    "class ConvDecoder(nn.Module):\n",
    "    def __init__(self):\n",
    "        super(Decoder, self).__init__()\n",
    "        c = capacity\n",
    "        self.fc = nn.Linear(in_features=latent_dims, out_features=c*2*7*7)\n",
    "        self.conv2 = nn.ConvTranspose1d(in_channels=c*2, out_channels=c, kernel_size=4, stride=2, padding=1)\n",
    "        self.conv1 = nn.ConvTranspose1d(in_channels=c, out_channels=1, kernel_size=4, stride=2, padding=1)\n",
    "            \n",
    "    def forward(self, x):\n",
    "        x = self.fc(x)\n",
    "        # unflatten batch of feature vectors to a batch of multi-channel feature maps\n",
    "        x = x.view(x.size(0), capacity*2, 7, 7)\n",
    "        x = F.relu(self.conv2(x))\n",
    "        # last layer before output is tanh, since the images are normalized and 0-centered\n",
    "        x = torch.tanh(self.conv1(x))\n",
    "        return x"
   ]
  },
  {
   "cell_type": "code",
   "execution_count": 5,
   "metadata": {},
   "outputs": [],
   "source": [
    "### encoder and decoder with fully connected layers only ###\n",
    "\n",
    "class Encoder(nn.Module):\n",
    "    def __init__(self, input_shape):\n",
    "        super(Encoder, self).__init__()\n",
    "        self.fc1 = nn.Linear(in_features=input_shape, out_features=600)\n",
    "        self.fc2 = nn.Linear(in_features=1024, out_features=128)\n",
    "        self.fc3 = nn.Linear(in_features=128, out_features=128)\n",
    "            \n",
    "    def forward(self, x):\n",
    "        x = F.relu(self.fc1(x))\n",
    "        #x = F.relu(self.fc2(x))\n",
    "        #x = self.fc3(x)\n",
    "        return x\n",
    "\n",
    "class Decoder(nn.Module):\n",
    "    def __init__(self, input_shape):\n",
    "        super(Decoder, self).__init__()\n",
    "        #self.fc1 = nn.Linear(in_features=128, out_features=128)\n",
    "        #self.fc2 = nn.Linear(in_features=128, out_features=1024)\n",
    "        self.fc3 = nn.Linear(in_features=600, out_features=input_shape)\n",
    "            \n",
    "    def forward(self, x):\n",
    "        #x = F.relu(self.fc1(x))\n",
    "        #x = F.relu(self.fc2(x))\n",
    "        x = F.relu(self.fc3(x))\n",
    "        return x"
   ]
  },
  {
   "cell_type": "code",
   "execution_count": 6,
   "metadata": {},
   "outputs": [],
   "source": [
    "class Autoencoder(nn.Module):\n",
    "    def __init__(self, input_shape):\n",
    "        super(Autoencoder, self).__init__()\n",
    "        self.encoder = Encoder(input_shape)\n",
    "        self.decoder = Decoder(input_shape)\n",
    "    \n",
    "    def forward(self, x):\n",
    "        latent = self.encoder(x)\n",
    "        x_recon = self.decoder(latent)\n",
    "        return x_recon"
   ]
  },
  {
   "cell_type": "code",
   "execution_count": 7,
   "metadata": {},
   "outputs": [],
   "source": [
    "### loss functions ###\n",
    "\n",
    "def caemeLoss(outputs, batch_features, latent, d1, d2, l1=1, l2=1, l3=1):\n",
    "    mse = nn.MSELoss()\n",
    "    o1 = outputs[:, 0:d1]\n",
    "    o2 = outputs[:, d1:d1+d2]\n",
    "    f1 = batch_features[:, 0:d1]\n",
    "    f2 = batch_features[:, d1:d1+d2] \n",
    "    \n",
    "    return l1*mse(o1, f1) + l2*mse(o2, f2)\n",
    "\n",
    "def mseLoss(outputs, batch_features, latent, d1, d2, l1=1, l2=1, l3=1):\n",
    "    # mean-squared error loss\n",
    "    mse = nn.MSELoss() \n",
    "    \n",
    "    return mse(outputs, batch_features)"
   ]
  },
  {
   "cell_type": "code",
   "execution_count": 12,
   "metadata": {},
   "outputs": [],
   "source": [
    "### pipeline for training meta embedding and classifying ###\n",
    "def metaEmbedding(data, model):\n",
    "    X_latent = []\n",
    "    Y = []\n",
    "\n",
    "    for i in range(len(data)):\n",
    "        x, y = data[i]\n",
    "        X_latent.append(model.encoder(x).cpu().detach().numpy())\n",
    "        Y.append(y)\n",
    "        \n",
    "    return X_latent, Y\n",
    "\n",
    "def autoencoderPipeline(task, num_epochs=30, learning_rate=1e-3, batch_size=128, loss_function=mseLoss):\n",
    "    device = T.device('cuda')\n",
    "    \n",
    "    print('Loading data ...')\n",
    "    train_data = DataSet(task, 'train', device)\n",
    "    test_data = DataSet('remote_homology', 'test', device)\n",
    "    train_dataloader = DataLoader(train_data, batch_size=batch_size, shuffle=True)\n",
    "    \n",
    "    model = Autoencoder(2924).to(device)\n",
    "    optimizer = T.optim.Adam(params=model.parameters(), lr=learning_rate, weight_decay=1e-7)\n",
    "    \n",
    "    print('Training autoencoder...')\n",
    "    for epoch in tqdm(range(num_epochs)):\n",
    "        loss = 0\n",
    "        for batch_features, _ in train_dataloader:\n",
    "            \n",
    "            batch_features = batch_features.to(device) # load data to GPU\n",
    "            optimizer.zero_grad() # reset the gradients back to zero\n",
    "            \n",
    "            outputs = model(batch_features) # compute reconstructions\n",
    "            latent = model.encoder(batch_features) # compute latent meta embedding\n",
    "            \n",
    "            train_loss = loss_function(outputs, batch_features, latent, 1024, 1900) # compute training loss\n",
    "            train_loss.backward() # compute accumulated gradients\n",
    "            optimizer.step() # perform parameter update based on current gradients\n",
    "            loss += train_loss.item() # add the mini-batch training loss to epoch loss\n",
    "\n",
    "        loss = loss / len(train_dataloader) # compute the epoch training loss\n",
    "\n",
    "        if epoch %3 == 0:\n",
    "            print(\"epoch : {}/{}, loss = {:.6f}\".format(epoch + 1, num_epochs, loss))\n",
    "            \n",
    "    print('Training classifier ...')\n",
    "    \n",
    "    test_x_latent, test_y = metaEmbedding(test_data, model)\n",
    "    train_x_latent, train_y = metaEmbedding(train_data, model)\n",
    "    \n",
    "    clf = OneVsRestClassifier(LinearSVC())\n",
    "    clf.fit(train_x_latent, train_y)\n",
    "    score = clf.score(test_x_latent, test_y)\n",
    "    \n",
    "    print(f\"Score on test set: {score}\")"
   ]
  },
  {
   "cell_type": "markdown",
   "metadata": {},
   "source": [
    "# Experiments"
   ]
  },
  {
   "cell_type": "code",
   "execution_count": 13,
   "metadata": {},
   "outputs": [
    {
     "name": "stdout",
     "output_type": "stream",
     "text": [
      "Loading data ...\n",
      "Training autoencoder...\n"
     ]
    },
    {
     "data": {
      "application/vnd.jupyter.widget-view+json": {
       "model_id": "2f695e07470d428089c9607e793f2730",
       "version_major": 2,
       "version_minor": 0
      },
      "text/plain": [
       "HBox(children=(IntProgress(value=0, max=30), HTML(value='')))"
      ]
     },
     "metadata": {},
     "output_type": "display_data"
    },
    {
     "name": "stdout",
     "output_type": "stream",
     "text": [
      "epoch : 1/30, loss = 0.000525\n",
      "epoch : 4/30, loss = 0.000464\n",
      "epoch : 7/30, loss = 0.000450\n",
      "epoch : 10/30, loss = 0.000443\n",
      "epoch : 13/30, loss = 0.000440\n",
      "epoch : 16/30, loss = 0.000439\n",
      "epoch : 19/30, loss = 0.000438\n",
      "epoch : 22/30, loss = 0.000437\n",
      "epoch : 25/30, loss = 0.000437\n",
      "epoch : 28/30, loss = 0.000437\n",
      "\n",
      "Training classifier ...\n",
      "Score on test set: 0.25487465181058494\n",
      "CPU times: user 3min 50s, sys: 35.7 s, total: 4min 26s\n",
      "Wall time: 4min 25s\n"
     ]
    }
   ],
   "source": [
    "%%time\n",
    "autoencoderPipeline('remote_homology', loss_function=mseLoss)"
   ]
  },
  {
   "cell_type": "code",
   "execution_count": 14,
   "metadata": {},
   "outputs": [
    {
     "name": "stdout",
     "output_type": "stream",
     "text": [
      "Loading data ...\n",
      "Training autoencoder...\n"
     ]
    },
    {
     "data": {
      "application/vnd.jupyter.widget-view+json": {
       "model_id": "54358dc23516430cab40bfaec8c7d3b1",
       "version_major": 2,
       "version_minor": 0
      },
      "text/plain": [
       "HBox(children=(IntProgress(value=0, max=30), HTML(value='')))"
      ]
     },
     "metadata": {},
     "output_type": "display_data"
    },
    {
     "name": "stdout",
     "output_type": "stream",
     "text": [
      "epoch : 1/30, loss = 0.001178\n",
      "epoch : 4/30, loss = 0.001067\n",
      "epoch : 7/30, loss = 0.001046\n",
      "epoch : 10/30, loss = 0.001031\n",
      "epoch : 13/30, loss = 0.001025\n",
      "epoch : 16/30, loss = 0.001021\n",
      "epoch : 19/30, loss = 0.001018\n",
      "epoch : 22/30, loss = 0.001015\n",
      "epoch : 25/30, loss = 0.001014\n",
      "epoch : 28/30, loss = 0.001013\n",
      "\n",
      "Training classifier ...\n",
      "Score on test set: 0.2646239554317549\n",
      "CPU times: user 3min 49s, sys: 36 s, total: 4min 25s\n",
      "Wall time: 4min 24s\n"
     ]
    }
   ],
   "source": [
    "%%time\n",
    "autoencoderPipeline('remote_homology', loss_function=caemeLoss)"
   ]
  },
  {
   "cell_type": "code",
   "execution_count": null,
   "metadata": {},
   "outputs": [],
   "source": []
  },
  {
   "cell_type": "code",
   "execution_count": null,
   "metadata": {},
   "outputs": [],
   "source": []
  }
 ],
 "metadata": {
  "kernelspec": {
   "display_name": "Python 3",
   "language": "python",
   "name": "python3"
  },
  "language_info": {
   "codemirror_mode": {
    "name": "ipython",
    "version": 3
   },
   "file_extension": ".py",
   "mimetype": "text/x-python",
   "name": "python",
   "nbconvert_exporter": "python",
   "pygments_lexer": "ipython3",
   "version": "3.6.5"
  }
 },
 "nbformat": 4,
 "nbformat_minor": 2
}
