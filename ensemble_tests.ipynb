{
 "cells": [
  {
   "cell_type": "code",
   "execution_count": null,
   "metadata": {},
   "outputs": [],
   "source": [
    "# takes an array of dict_data\n",
    "# and combines embeddings by averaging with self then appending with other\n",
    "# convers to array with labels and returns\n",
    "def ensemble_append_mean_reps(dicts, labels):\n",
    "    \n",
    "    new_dict = dict()\n",
    "    keys = dicts[0].keys()\n",
    "    for key in keys:\n",
    "        seqs = []\n",
    "        for d in dicts:\n",
    "            seq = np.mean(d[key], axis=0)\n",
    "            seqs.append(seq)\n",
    "        combined_seqs = np.concatenate(seqs, axis=0)\n",
    "        new_dict[key] = combined_seqs\n",
    "        \n",
    "    emb_size = list(new_dict.values())[0].shape[0]\n",
    "    X = np.zeros((len(new_dict), emb_size))\n",
    "    y = np.zeros(len(new_dict))\n",
    "    \n",
    "    i = 0\n",
    "    for key in new_dict:\n",
    "        X[i] = np.mean(new_dict[key], axis=0)\n",
    "        y[i] = labels[key]\n",
    "        i += 1\n",
    "        \n",
    "    return X, y"
   ]
  },
  {
   "cell_type": "code",
   "execution_count": null,
   "metadata": {},
   "outputs": [],
   "source": [
    "task = 'remote_homology'\n",
    "\n",
    "X_train_e = read_dataset('elmo', task, 'train')\n",
    "X_train_u = read_dataset('unirep', task, 'train')\n",
    "y_train_dict = read_dataset('label', task, 'train')"
   ]
  },
  {
   "cell_type": "code",
   "execution_count": null,
   "metadata": {},
   "outputs": [],
   "source": [
    "X_train_app, y_train = ensemble_append_mean_reps([X_train_e, X_train_u], y_train_dict)\n",
    "print(X_train_app.shape)"
   ]
  },
  {
   "cell_type": "code",
   "execution_count": null,
   "metadata": {},
   "outputs": [],
   "source": [
    "from sklearn.svm import LinearSVC\n",
    "from sklearn.multiclass import OneVsRestClassifier\n",
    "\n",
    "clf_app = OneVsRestClassifier(LinearSVC())\n",
    "clf_app.fit(X_train_app, y_train)"
   ]
  },
  {
   "cell_type": "code",
   "execution_count": null,
   "metadata": {},
   "outputs": [],
   "source": [
    "X_valid_e = read_dataset('elmo', task, 'valid')\n",
    "X_valid_u = read_dataset('unirep', task, 'valid')\n",
    "y_valid_dict = read_dataset('label', task, 'valid')\n",
    "X_valid_app, y_valid = ensemble_append_mean_reps([X_valid_e, X_valid_u], y_valid_dict)\n",
    "\n",
    "valid_score = clf_app.score(X_valid_app, y_valid)\n",
    "print(f\"append model valid score: \", valid_score)"
   ]
  },
  {
   "cell_type": "code",
   "execution_count": null,
   "metadata": {},
   "outputs": [],
   "source": [
    "X_test_e = read_dataset('elmo', task, 'test')\n",
    "X_test_u = read_dataset('unirep', task, 'test')\n",
    "y_test_dict = read_dataset('label', task, 'test')\n",
    "X_test_app, y_test = ensemble_append_mean_reps([X_test_e, X_test_u], y_test_dict)\n",
    "\n",
    "test_score = clf_app.score(X_test_app, y_test)\n",
    "print(f\"append model test score: \", test_score)"
   ]
  }
 ],
 "metadata": {
  "kernelspec": {
   "display_name": "Python 3",
   "language": "python",
   "name": "python3"
  },
  "language_info": {
   "codemirror_mode": {
    "name": "ipython",
    "version": 3
   },
   "file_extension": ".py",
   "mimetype": "text/x-python",
   "name": "python",
   "nbconvert_exporter": "python",
   "pygments_lexer": "ipython3",
   "version": "3.8.3"
  }
 },
 "nbformat": 4,
 "nbformat_minor": 4
}
