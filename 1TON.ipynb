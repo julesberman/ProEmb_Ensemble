{
 "cells": [
  {
   "cell_type": "code",
   "execution_count": 8,
   "metadata": {},
   "outputs": [],
   "source": [
    "# run me first!\n",
    "\n",
    "from sklearn.linear_model import LogisticRegression\n",
    "from timeit import default_timer as timer\n",
    "from datetime import timedelta\n",
    "import os\n",
    "from sklearn import preprocessing\n",
    "import numpy as np\n",
    "from read_scripts import dict_2_arr \n",
    "from read_scripts import read_dataset \n",
    "from sklearn.utils.extmath import randomized_svd\n",
    "from sklearn.decomposition import PCA\n",
    "\n",
    "task = \"remote_homology\""
   ]
  },
  {
   "cell_type": "code",
   "execution_count": 9,
   "metadata": {},
   "outputs": [],
   "source": [
    "def get_combined_normalized_corpus():\n",
    "    ys = []\n",
    "    els = []\n",
    "    trfs = []\n",
    "    unis = []\n",
    "\n",
    "    # read all splits\n",
    "    for split in ['train', 'valid', 'test_fold_holdout', 'test_superfamily_holdout', 'test_family_holdout']:\n",
    "\n",
    "        y_dict = read_dataset('label', task, split)\n",
    "        X_e, y = dict_2_arr(read_dataset('elmo', task, split), y_dict)\n",
    "        X_t, y = dict_2_arr(read_dataset('transformer', task, split), y_dict)\n",
    "        X_u, y = dict_2_arr(read_dataset('unirep', task, split), y_dict)\n",
    "\n",
    "        ys.append(y)\n",
    "        els.append(X_e)  \n",
    "        trfs.append(X_t)\n",
    "        unis.append(X_u)\n",
    "    \n",
    "    # concat all splits\n",
    "    e_corpus = np.concatenate(els, axis=0)\n",
    "    t_corpus = np.concatenate(trfs, axis=0)\n",
    "    u_corpus = np.concatenate(unis, axis=0)\n",
    "    \n",
    "    # normalize each indvidually \n",
    "    e_corpus = preprocessing.normalize(e_corpus, norm='l2')\n",
    "    t_corpus = preprocessing.normalize(t_corpus, norm='l2')\n",
    "    u_corpus = preprocessing.normalize(u_corpus, norm='l2')\n",
    "    \n",
    "    # concatenate all corpuses\n",
    "    combined = np.concatenate([e_corpus, t_corpus, u_corpus], axis=1)\n",
    "    \n",
    "    return combined"
   ]
  },
  {
   "cell_type": "code",
   "execution_count": 10,
   "metadata": {},
   "outputs": [],
   "source": [
    "def get_single_model_normalized_corpus(model):\n",
    "    ys = []\n",
    "    Xs = []\n",
    "\n",
    "    # read all splits\n",
    "    for split in ['train', 'valid', 'test_fold_holdout', 'test_superfamily_holdout', 'test_family_holdout']:\n",
    "\n",
    "        y_dict = read_dataset('label', task, split)\n",
    "        X, y = dict_2_arr(read_dataset(model, task, split), y_dict)\n",
    "        \n",
    "        ys.append(y)\n",
    "        Xs.append(X)  \n",
    "    \n",
    "    # concat all splits\n",
    "    corpus = np.concatenate(Xs, axis=0)\n",
    "    \n",
    "    return corpus, ys"
   ]
  },
  {
   "cell_type": "code",
   "execution_count": 11,
   "metadata": {},
   "outputs": [],
   "source": [
    "X_e, y = get_single_model_normalized_corpus('elmo')\n",
    "X_t, y = get_single_model_normalized_corpus('transformer')\n",
    "X_u, y = get_single_model_normalized_corpus('unirep')"
   ]
  },
  {
   "cell_type": "code",
   "execution_count": 86,
   "metadata": {},
   "outputs": [],
   "source": [
    "lr = 0.001\n",
    "max_iter = 15\n",
    "reg = 1\n",
    "\n",
    "def one_to_N(embs_list, meta_dim):\n",
    "\n",
    "    Ms = []\n",
    "    Vs = []\n",
    "    for Vi in embs_list:\n",
    "        Mi = np.random.rand(Vi.shape[1], meta_dim)\n",
    "        Ms.append(Mi)\n",
    "        Vs.append(np.transpose(Vi))\n",
    "    \n",
    "    n_examples = Vs[0].shape[1]    \n",
    "    Vstar = np.random.rand(meta_dim, n_examples)\n",
    "    \n",
    "    r = len(Ms)\n",
    "    itr = 0\n",
    "    while itr < max_iter:\n",
    "        wn = Vstar\n",
    "        term1 = np.zeros((meta_dim,n_examples))\n",
    "        term2 = np.zeros((meta_dim,n_examples))\n",
    "        for i in range(r):\n",
    "\n",
    "            wi = Vs[i]\n",
    "        \n",
    "            wnT = np.transpose(wn)\n",
    "            Mi = Ms[i]\n",
    "            # M_i for next itr\n",
    "            t1 = Mi.dot(wn.dot(wnT)) \n",
    "            t2 = reg*Mi\n",
    "            t3 = wi.dot(wnT)\n",
    "            Mip1 = Mi - lr*(t1 + t2 - t3)\n",
    "            Ms[i] = Mip1\n",
    "            \n",
    "            # w for next itr\n",
    "            MiT = np.transpose(Mi)\n",
    "            res = MiT.dot(Mi.dot(wn)) \n",
    "            term1 = term1 + res\n",
    "            term2 = term2 + MiT.dot(wi)\n",
    "\n",
    "\n",
    "        Vstar = wn - lr*(term1 - term2)\n",
    "        \n",
    "        # compute cost over epoch\n",
    "        cost = 0\n",
    "        proj_norm = 0\n",
    "        for i in range(r):\n",
    "            Mi = Ms[i]\n",
    "            wi = Vs[i]\n",
    "            wi_hat = Mi.dot(Vstar)\n",
    "            cost += np.linalg.norm(wi_hat - wi)**2 + reg*(np.linalg.norm(Mi)**2)\n",
    "            proj_norm += np.linalg.norm(wi_hat - wi)\n",
    "        \n",
    "        print(f\"Iteration {itr}, cost {cost}, proj_norm {proj_norm}\")\n",
    "        itr += 1\n",
    "        \n",
    "    return Vstar"
   ]
  },
  {
   "cell_type": "code",
   "execution_count": 87,
   "metadata": {},
   "outputs": [
    {
     "name": "stdout",
     "output_type": "stream",
     "text": [
      "Iteration 0, cost 8.219392923166093e+23, proj_norm 1541323679058.655\n",
      "Iteration 1, cost 5.552891963110048e+59, proj_norm 1.2668744904090345e+30\n"
     ]
    },
    {
     "ename": "KeyboardInterrupt",
     "evalue": "",
     "output_type": "error",
     "traceback": [
      "\u001b[0;31m---------------------------------------------------------------------------\u001b[0m",
      "\u001b[0;31mKeyboardInterrupt\u001b[0m                         Traceback (most recent call last)",
      "\u001b[0;32m<ipython-input-87-886f28abe5a6>\u001b[0m in \u001b[0;36m<module>\u001b[0;34m\u001b[0m\n\u001b[0;32m----> 1\u001b[0;31m \u001b[0membed\u001b[0m \u001b[0;34m=\u001b[0m \u001b[0mone_to_N\u001b[0m\u001b[0;34m(\u001b[0m\u001b[0;34m[\u001b[0m\u001b[0mX_e\u001b[0m\u001b[0;34m,\u001b[0m \u001b[0mX_t\u001b[0m\u001b[0;34m,\u001b[0m \u001b[0mX_u\u001b[0m\u001b[0;34m]\u001b[0m\u001b[0;34m,\u001b[0m \u001b[0;36m500\u001b[0m\u001b[0;34m)\u001b[0m\u001b[0;34m\u001b[0m\u001b[0;34m\u001b[0m\u001b[0m\n\u001b[0m",
      "\u001b[0;32m<ipython-input-86-6e5d1b59df6e>\u001b[0m in \u001b[0;36mone_to_N\u001b[0;34m(embs_list, meta_dim)\u001b[0m\n\u001b[1;32m     51\u001b[0m             \u001b[0mwi_hat\u001b[0m \u001b[0;34m=\u001b[0m \u001b[0mMi\u001b[0m\u001b[0;34m.\u001b[0m\u001b[0mdot\u001b[0m\u001b[0;34m(\u001b[0m\u001b[0mVstar\u001b[0m\u001b[0;34m)\u001b[0m\u001b[0;34m\u001b[0m\u001b[0;34m\u001b[0m\u001b[0m\n\u001b[1;32m     52\u001b[0m             \u001b[0mcost\u001b[0m \u001b[0;34m+=\u001b[0m \u001b[0mnp\u001b[0m\u001b[0;34m.\u001b[0m\u001b[0mlinalg\u001b[0m\u001b[0;34m.\u001b[0m\u001b[0mnorm\u001b[0m\u001b[0;34m(\u001b[0m\u001b[0mwi_hat\u001b[0m \u001b[0;34m-\u001b[0m \u001b[0mwi\u001b[0m\u001b[0;34m)\u001b[0m\u001b[0;34m**\u001b[0m\u001b[0;36m2\u001b[0m \u001b[0;34m+\u001b[0m \u001b[0mreg\u001b[0m\u001b[0;34m*\u001b[0m\u001b[0;34m(\u001b[0m\u001b[0mnp\u001b[0m\u001b[0;34m.\u001b[0m\u001b[0mlinalg\u001b[0m\u001b[0;34m.\u001b[0m\u001b[0mnorm\u001b[0m\u001b[0;34m(\u001b[0m\u001b[0mMi\u001b[0m\u001b[0;34m)\u001b[0m\u001b[0;34m**\u001b[0m\u001b[0;36m2\u001b[0m\u001b[0;34m)\u001b[0m\u001b[0;34m\u001b[0m\u001b[0;34m\u001b[0m\u001b[0m\n\u001b[0;32m---> 53\u001b[0;31m             \u001b[0mproj_norm\u001b[0m \u001b[0;34m+=\u001b[0m \u001b[0mnp\u001b[0m\u001b[0;34m.\u001b[0m\u001b[0mlinalg\u001b[0m\u001b[0;34m.\u001b[0m\u001b[0mnorm\u001b[0m\u001b[0;34m(\u001b[0m\u001b[0mwi_hat\u001b[0m \u001b[0;34m-\u001b[0m \u001b[0mwi\u001b[0m\u001b[0;34m)\u001b[0m\u001b[0;34m\u001b[0m\u001b[0;34m\u001b[0m\u001b[0m\n\u001b[0m\u001b[1;32m     54\u001b[0m \u001b[0;34m\u001b[0m\u001b[0m\n\u001b[1;32m     55\u001b[0m         \u001b[0mprint\u001b[0m\u001b[0;34m(\u001b[0m\u001b[0;34mf\"Iteration {itr}, cost {cost}, proj_norm {proj_norm}\"\u001b[0m\u001b[0;34m)\u001b[0m\u001b[0;34m\u001b[0m\u001b[0;34m\u001b[0m\u001b[0m\n",
      "\u001b[0;31mKeyboardInterrupt\u001b[0m: "
     ]
    }
   ],
   "source": [
    "\n",
    "embed = one_to_N([X_e, X_t, X_u], 500)"
   ]
  },
  {
   "cell_type": "code",
   "execution_count": null,
   "metadata": {},
   "outputs": [],
   "source": []
  }
 ],
 "metadata": {
  "kernelspec": {
   "display_name": "Python 3",
   "language": "python",
   "name": "python3"
  },
  "language_info": {
   "codemirror_mode": {
    "name": "ipython",
    "version": 3
   },
   "file_extension": ".py",
   "mimetype": "text/x-python",
   "name": "python",
   "nbconvert_exporter": "python",
   "pygments_lexer": "ipython3",
   "version": "3.8.3"
  }
 },
 "nbformat": 4,
 "nbformat_minor": 4
}
