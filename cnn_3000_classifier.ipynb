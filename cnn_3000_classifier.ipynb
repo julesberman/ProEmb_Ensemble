{
 "cells": [
  {
   "cell_type": "code",
   "execution_count": 1,
   "metadata": {},
   "outputs": [],
   "source": [
    "%matplotlib inline\n",
    "import os\n",
    "import sys\n",
    "from datetime import datetime\n",
    "import logging\n",
    "logging.basicConfig(format='%(asctime)s %(message)s', stream=sys.stdout)\n",
    "\n",
    "import numpy as np\n",
    "\n",
    "from sklearn import preprocessing\n",
    "from sklearn.svm import LinearSVC\n",
    "from sklearn.multiclass import OneVsRestClassifier\n",
    "from sklearn.pipeline import make_pipeline\n",
    "from sklearn.preprocessing import StandardScaler\n",
    "from sklearn.linear_model import LogisticRegression"
   ]
  },
  {
   "cell_type": "code",
   "execution_count": 2,
   "metadata": {},
   "outputs": [],
   "source": [
    "class Log():\n",
    "    def __init__(self):\n",
    "        pass\n",
    "    \n",
    "    def print(self, msg):\n",
    "        print(f'{datetime.now().strftime(\"%H:%M:%S\")} {msg}')\n",
    "        \n",
    "L = Log()"
   ]
  },
  {
   "cell_type": "code",
   "execution_count": null,
   "metadata": {},
   "outputs": [],
   "source": []
  },
  {
   "cell_type": "code",
   "execution_count": 3,
   "metadata": {},
   "outputs": [],
   "source": [
    "conv=True\n",
    "latent_dimension=3692"
   ]
  },
  {
   "cell_type": "code",
   "execution_count": 4,
   "metadata": {},
   "outputs": [],
   "source": [
    "with open(f'train_{conv}_{latent_dimension}.npy', 'rb') as f:\n",
    "    train_X = np.load(f)\n",
    "        \n",
    "with open(f'train_{conv}_{latent_dimension}_y.npy', 'rb') as f:\n",
    "    train_y = np.load(f)\n",
    "\n",
    "with open(f'test_{conv}_{latent_dimension}.npy', 'rb') as f:\n",
    "    test_X = np.load(f)\n",
    "\n",
    "with open(f'test_{conv}_{latent_dimension}_y.npy', 'rb') as f:\n",
    "    test_y = np.load(f)"
   ]
  },
  {
   "cell_type": "code",
   "execution_count": 5,
   "metadata": {},
   "outputs": [
    {
     "data": {
      "text/plain": [
       "((12305, 3692), (12305,), (718, 3692), (718,))"
      ]
     },
     "execution_count": 5,
     "metadata": {},
     "output_type": "execute_result"
    }
   ],
   "source": [
    "train_X.shape, train_y.shape, test_X.shape, test_y.shape"
   ]
  },
  {
   "cell_type": "code",
   "execution_count": null,
   "metadata": {},
   "outputs": [
    {
     "name": "stdout",
     "output_type": "stream",
     "text": [
      "12:40:26 Training ...\n"
     ]
    }
   ],
   "source": [
    "%%time\n",
    "L.print('Training ...')\n",
    "clf = make_pipeline(StandardScaler(), LogisticRegression(solver='liblinear', multi_class='auto'))\n",
    "clf.fit(train_X, train_y)\n",
    "\n",
    "score = clf.score(test_X, test_y)\n",
    "\n",
    "L.print(f\"Score on test set: {score}\")"
   ]
  },
  {
   "cell_type": "code",
   "execution_count": null,
   "metadata": {},
   "outputs": [],
   "source": [
    "with open('./temp2.txt', 'w+') as f:\n",
    "    f.write(f'{score}')"
   ]
  },
  {
   "cell_type": "code",
   "execution_count": null,
   "metadata": {},
   "outputs": [],
   "source": []
  }
 ],
 "metadata": {
  "kernelspec": {
   "display_name": "Python 3",
   "language": "python",
   "name": "python3"
  },
  "language_info": {
   "codemirror_mode": {
    "name": "ipython",
    "version": 3
   },
   "file_extension": ".py",
   "mimetype": "text/x-python",
   "name": "python",
   "nbconvert_exporter": "python",
   "pygments_lexer": "ipython3",
   "version": "3.6.5"
  }
 },
 "nbformat": 4,
 "nbformat_minor": 2
}
