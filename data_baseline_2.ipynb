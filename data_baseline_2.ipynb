{
 "cells": [
  {
   "cell_type": "code",
   "execution_count": 4,
   "metadata": {},
   "outputs": [],
   "source": [
    "import numpy as np\n",
    "from timeit import default_timer as timer\n",
    "from datetime import timedelta\n",
    "from read_scripts import dict_2_arr \n",
    "from read_scripts import read_dataset \n",
    "from sklearn import preprocessing\n",
    "\n",
    "def classifer_base_eval(model, task, classifer, scale=True, avgr=lambda x: np.mean(x, axis=0)):\n",
    "        \n",
    "    print(f\"svm_base_eval for model: {model}, task: {task}\")\n",
    "    print(\"using classifier: \", classifer)\n",
    "    print(\"==========================================================\")\n",
    "    \n",
    "    print(\"\\nTRAIN\")\n",
    "    split = 'train'\n",
    "    X, y = dict_2_arr(read_dataset(model, task, split), read_dataset('label', task, split), avgr)\n",
    "    if scale:\n",
    "        print(f\"scaling {split}\")\n",
    "        scaler = preprocessing.StandardScaler().fit(X)\n",
    "        X = scaler.transform(X)\n",
    "        \n",
    "    print(\"fitting classifer...\")\n",
    "    start = timer()\n",
    "    classifer.fit(X, y)\n",
    "    end = timer()\n",
    "    print(f\"{model} {split} fit time: \", timedelta(seconds=end-start))\n",
    "    score = classifer.score(X, y)\n",
    "    print(f\"{model} {split} score: \\n\", score)\n",
    "\n",
    "    for split in ['valid', 'test_fold_holdout', 'test_superfamily_holdout', 'test_family_holdout']:\n",
    "        X, y = dict_2_arr(read_dataset(model, task, split), read_dataset('label', task, split), avgr)\n",
    "        if scale:\n",
    "            X = scaler.transform(X)\n",
    "\n",
    "        score = classifer.score(X, y)\n",
    "        print(f\"{model} {split} score: \\n\", score)\n",
    "    \n",
    "    return classifer\n"
   ]
  },
  {
   "cell_type": "code",
   "execution_count": 7,
   "metadata": {},
   "outputs": [
    {
     "name": "stdout",
     "output_type": "stream",
     "text": [
      "svm_base_eval for model: elmo, task: remote_homology\n",
      "using classifier:  LogisticRegression(max_iter=5000)\n",
      "==========================================================\n",
      "\n",
      "TRAIN\n",
      "transforming data...\n",
      "scaling train\n",
      "fitting classifer...\n",
      "elmo train fit time:  0:16:47.748088\n",
      "elmo train score: \n",
      " 1.0\n",
      "transforming data...\n",
      "elmo valid score: \n",
      " 0.3555858310626703\n",
      "transforming data...\n",
      "elmo test_fold_holdout score: \n",
      " 0.24233983286908078\n",
      "transforming data...\n",
      "elmo test_superfamily_holdout score: \n",
      " 0.43370607028753994\n",
      "transforming data...\n",
      "elmo test_family_holdout score: \n",
      " 0.9316037735849056\n"
     ]
    }
   ],
   "source": [
    "from sklearn.linear_model import LogisticRegression\n",
    "\n",
    "clf = LogisticRegression(max_iter=5000)\n",
    "clf = classifer_base_eval(\"elmo\", \"remote_homology\", clf)"
   ]
  },
  {
   "cell_type": "code",
   "execution_count": 8,
   "metadata": {},
   "outputs": [
    {
     "name": "stdout",
     "output_type": "stream",
     "text": [
      "svm_base_eval for model: unirep, task: remote_homology\n",
      "using classifier:  LogisticRegression(max_iter=5000)\n",
      "==========================================================\n",
      "\n",
      "TRAIN\n",
      "transforming data...\n",
      "scaling train\n",
      "fitting classifer...\n",
      "unirep train fit time:  0:53:31.188048\n",
      "unirep train score: \n",
      " 1.0\n",
      "transforming data...\n",
      "unirep valid score: \n",
      " 0.279291553133515\n",
      "transforming data...\n",
      "unirep test_fold_holdout score: \n",
      " 0.22423398328690808\n",
      "transforming data...\n",
      "unirep test_superfamily_holdout score: \n",
      " 0.33706070287539935\n",
      "transforming data...\n",
      "unirep test_family_holdout score: \n",
      " 0.8584905660377359\n"
     ]
    }
   ],
   "source": [
    "from sklearn.linear_model import LogisticRegression\n",
    "\n",
    "clf = LogisticRegression(max_iter=5000)\n",
    "clf = classifer_base_eval(\"unirep\", \"remote_homology\", clf)"
   ]
  },
  {
   "cell_type": "code",
   "execution_count": 5,
   "metadata": {},
   "outputs": [
    {
     "name": "stdout",
     "output_type": "stream",
     "text": [
      "svm_base_eval for model: transformer, task: remote_homology\n",
      "using classifier:  LogisticRegression(max_iter=5000)\n",
      "==========================================================\n",
      "\n",
      "TRAIN\n",
      "transforming data...\n",
      "scaling train\n",
      "fitting classifer...\n",
      "transformer train fit time:  0:20:05.775981\n",
      "transformer train score: \n",
      " 1.0\n",
      "transforming data...\n",
      "transformer valid score: \n",
      " 0.3528610354223433\n",
      "transforming data...\n",
      "transformer test_fold_holdout score: \n",
      " 0.23259052924791088\n",
      "transforming data...\n",
      "transformer test_superfamily_holdout score: \n",
      " 0.3985623003194888\n",
      "transforming data...\n",
      "transformer test_family_holdout score: \n",
      " 0.9135220125786163\n"
     ]
    }
   ],
   "source": [
    "from sklearn.linear_model import LogisticRegression\n",
    "\n",
    "clf = LogisticRegression(max_iter=5000)\n",
    "clf = classifer_base_eval(\"transformer\", \"remote_homology\", clf)"
   ]
  },
  {
   "cell_type": "code",
   "execution_count": null,
   "metadata": {},
   "outputs": [],
   "source": [
    "import os\n",
    "# when run will play a ping sound!\n",
    "os.system(\"printf '\\a'\")\n",
    "os.system(\"printf '\\a'\")\n",
    "os.system(\"printf '\\a'\")\n",
    "print(\"Done!\")"
   ]
  }
 ],
 "metadata": {
  "kernelspec": {
   "display_name": "Python 3",
   "language": "python",
   "name": "python3"
  },
  "language_info": {
   "codemirror_mode": {
    "name": "ipython",
    "version": 3
   },
   "file_extension": ".py",
   "mimetype": "text/x-python",
   "name": "python",
   "nbconvert_exporter": "python",
   "pygments_lexer": "ipython3",
   "version": "3.8.3"
  }
 },
 "nbformat": 4,
 "nbformat_minor": 4
}
