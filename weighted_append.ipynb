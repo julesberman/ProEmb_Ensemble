{
 "cells": [
  {
   "cell_type": "code",
   "execution_count": 3,
   "metadata": {},
   "outputs": [],
   "source": [
    "from sklearn.linear_model import LogisticRegression\n",
    "from timeit import default_timer as timer\n",
    "from datetime import timedelta\n",
    "import os\n",
    "from sklearn import preprocessing\n",
    "import numpy as np\n",
    "from read_scripts import dict_2_arr \n",
    "from read_scripts import read_dataset \n",
    "from sklearn.utils.extmath import randomized_svd\n",
    "from sklearn.decomposition import PCA\n",
    "\n",
    "task = \"remote_homology\"\n",
    "\n",
    "def fit_logistic(X, y):\n",
    "    start = timer()\n",
    "    clf = LogisticRegression(max_iter=5000)\n",
    "    clf.fit(X, y)\n",
    "    end = timer()\n",
    "    print(f\"fit time: \", timedelta(seconds=end-start))\n",
    "    \n",
    "    train_score = clf.score(X, y)\n",
    "    print(f\"model train score: \", train_score)\n",
    "    \n",
    "    # when run will play a ping sound!\n",
    "    os.system(\"printf '\\a'\")\n",
    "    os.system(\"printf '\\a'\")\n",
    "    os.system(\"printf '\\a'\")\n",
    "    print(\"Done!\")\n",
    "    \n",
    "    return clf\n",
    "\n",
    "# takes an array of dict_data\n",
    "# and combines embeddings by averaging with self then appending with other\n",
    "# convers to array with labels and returns\n",
    "def ensemble_append_mean_reps_weighted(dicts, weights, labels):\n",
    "    \n",
    "    new_dict = dict()\n",
    "    keys = dicts[0].keys()\n",
    "    for key in keys:\n",
    "        seqs = []\n",
    "        i = 0\n",
    "        for d in dicts:\n",
    "            seq = np.mean(d[key], axis=0)\n",
    "            seq = preprocessing.normalize([seq], norm='l2') * weights[i]\n",
    "            seqs.append(seq)\n",
    "            i += 1\n",
    "        combined_seqs = np.concatenate(seqs, axis=1)\n",
    "        new_dict[key] = combined_seqs\n",
    "\n",
    "    emb_size = list(new_dict.values())[0].shape[1]\n",
    "    X = np.zeros((len(new_dict), emb_size))\n",
    "    y = np.zeros(len(new_dict))\n",
    "    \n",
    "    i = 0\n",
    "    for key in new_dict:\n",
    "        X[i] = new_dict[key]\n",
    "        y[i] = labels[key]\n",
    "        i += 1\n",
    "        \n",
    "    return X, y"
   ]
  },
  {
   "cell_type": "code",
   "execution_count": 12,
   "metadata": {},
   "outputs": [],
   "source": [
    "def do_weighted_concat(weights, scale=True):\n",
    "    \n",
    "    all_scores = {}\n",
    "    \n",
    "    y_train = read_dataset('label', task, \"train\")\n",
    "    X_train_e = read_dataset('elmo', task, \"train\")\n",
    "    X_train_t = read_dataset('transformer', task, \"train\")\n",
    "    X_train_u = read_dataset('unirep', task, \"train\")\n",
    "\n",
    "    print(\"========================================================\")\n",
    "    print(f\"weighted CONACT elmo: {weights[0]} transformer: {weights[1]} unirep: {weights[2]}\")\n",
    "\n",
    "    X_train_app, y_train = ensemble_append_mean_reps_weighted([X_train_e, X_train_t, X_train_u], weights, y_train)\n",
    "    \n",
    "    if scale:\n",
    "        scaler = preprocessing.StandardScaler().fit(X_train_app)\n",
    "        X_train_app = scaler.transform(X_train_app)\n",
    "        \n",
    "    clf = fit_logistic(X_train_app, y_train)\n",
    "    \n",
    "    all_scores['train'] = clf.score(X_train_app, y_train)\n",
    "    \n",
    "    for split in ['valid', 'test_fold_holdout', 'test_superfamily_holdout', 'test_family_holdout']:\n",
    "        X_test_e = read_dataset('elmo', task, split)\n",
    "        X_test_u = read_dataset('unirep', task, split)\n",
    "        X_test_t = read_dataset('transformer', task, split)\n",
    "        y_test_dict = read_dataset('label', task, split)\n",
    "        X_test_app, y_test = ensemble_append_mean_reps_weighted([X_test_e, X_test_t, X_test_u], weights, y_test_dict)\n",
    "\n",
    "        if scale:\n",
    "            X_test_app = scaler.transform(X_test_app)\n",
    "            \n",
    "        test_score = clf.score(X_test_app, y_test)\n",
    "        all_scores[split] = test_score\n",
    "        \n",
    "        print(f\"weighted CONACT {split} score, scale={scale}: \", test_score)\n",
    "        \n",
    "    return all_scores, clf\n",
    "    "
   ]
  },
  {
   "cell_type": "code",
   "execution_count": 6,
   "metadata": {},
   "outputs": [
    {
     "name": "stdout",
     "output_type": "stream",
     "text": [
      "========================================================\n",
      "weighted CONACT elmo: 3 transformer: 2 unirep: 1\n",
      "fit time:  1:07:21.505920\n",
      "model train score:  1.0\n",
      "Done!\n",
      "weighted CONACT valid score:  0.3746594005449591\n",
      "weighted CONACT test_fold_holdout score:  0.27298050139275765\n",
      "weighted CONACT test_superfamily_holdout score:  0.46485623003194887\n",
      "weighted CONACT test_family_holdout score:  0.9544025157232704\n"
     ]
    }
   ],
   "source": [
    "all_scores_all_weights = {}\n",
    "all_scores, clf = do_weighted_concat([3,2,1])"
   ]
  },
  {
   "cell_type": "code",
   "execution_count": 7,
   "metadata": {},
   "outputs": [
    {
     "name": "stdout",
     "output_type": "stream",
     "text": [
      "========================================================\n",
      "weighted CONACT elmo: 1 transformer: 3 unirep: 1\n",
      "fit time:  1:06:33.164358\n",
      "model train score:  1.0\n",
      "Done!\n",
      "weighted CONACT valid score:  0.3746594005449591\n",
      "weighted CONACT test_fold_holdout score:  0.2743732590529248\n",
      "weighted CONACT test_superfamily_holdout score:  0.46485623003194887\n",
      "weighted CONACT test_family_holdout score:  0.9544025157232704\n"
     ]
    }
   ],
   "source": [
    "all_scores_all_weights = {}\n",
    "all_scores, clf = do_weighted_concat([1,3,1])"
   ]
  },
  {
   "cell_type": "code",
   "execution_count": 10,
   "metadata": {},
   "outputs": [
    {
     "name": "stdout",
     "output_type": "stream",
     "text": [
      "========================================================\n",
      "weighted CONACT elmo: 1 transformer: 12 unirep: 1\n",
      "fit time:  1:04:17.974441\n",
      "model train score:  1.0\n",
      "Done!\n",
      "weighted CONACT valid score:  0.3746594005449591\n",
      "weighted CONACT test_fold_holdout score:  0.2743732590529248\n",
      "weighted CONACT test_superfamily_holdout score:  0.46485623003194887\n",
      "weighted CONACT test_family_holdout score:  0.9544025157232704\n"
     ]
    }
   ],
   "source": [
    "all_scores_all_weights = {}\n",
    "all_scores, clf = do_weighted_concat([1,12,1])"
   ]
  },
  {
   "cell_type": "code",
   "execution_count": 14,
   "metadata": {},
   "outputs": [
    {
     "name": "stdout",
     "output_type": "stream",
     "text": [
      "========================================================\n",
      "weighted CONACT elmo: 1 transformer: 10 unirep: 1\n",
      "fit time:  0:32:20.049799\n",
      "model train score:  0.9919544900446973\n",
      "Done!\n",
      "weighted CONACT valid score, scale=False:  0.3569482288828338\n",
      "weighted CONACT test_fold_holdout score, scale=False:  0.25487465181058494\n",
      "weighted CONACT test_superfamily_holdout score, scale=False:  0.41134185303514376\n",
      "weighted CONACT test_family_holdout score, scale=False:  0.9205974842767296\n"
     ]
    }
   ],
   "source": [
    "all_scores_all_weights = {}\n",
    "all_scores, clf = do_weighted_concat([1,10,1], scale=False)"
   ]
  },
  {
   "cell_type": "code",
   "execution_count": 15,
   "metadata": {},
   "outputs": [
    {
     "name": "stdout",
     "output_type": "stream",
     "text": [
      "========================================================\n",
      "weighted CONACT elmo: 1 transformer: 3 unirep: 1\n",
      "fit time:  0:09:45.717715\n",
      "model train score:  0.8186103210077205\n",
      "Done!\n",
      "weighted CONACT valid score, scale=False:  0.36239782016348776\n",
      "weighted CONACT test_fold_holdout score, scale=False:  0.27019498607242337\n",
      "weighted CONACT test_superfamily_holdout score, scale=False:  0.4169329073482428\n",
      "weighted CONACT test_family_holdout score, scale=False:  0.9158805031446541\n"
     ]
    }
   ],
   "source": [
    "all_scores_all_weights = {}\n",
    "all_scores, clf = do_weighted_concat([1,3,1], scale=False)"
   ]
  },
  {
   "cell_type": "code",
   "execution_count": 16,
   "metadata": {},
   "outputs": [
    {
     "name": "stdout",
     "output_type": "stream",
     "text": [
      "========================================================\n",
      "weighted CONACT elmo: 3 transformer: 2 unirep: 1\n",
      "fit time:  0:09:59.401634\n",
      "model train score:  0.9036976838683461\n",
      "Done!\n",
      "weighted CONACT valid score, scale=False:  0.3678474114441417\n",
      "weighted CONACT test_fold_holdout score, scale=False:  0.28551532033426186\n",
      "weighted CONACT test_superfamily_holdout score, scale=False:  0.4353035143769968\n",
      "weighted CONACT test_family_holdout score, scale=False:  0.9355345911949685\n"
     ]
    }
   ],
   "source": [
    "all_scores_all_weights = {}\n",
    "all_scores, clf = do_weighted_concat([3,2,1], scale=False)"
   ]
  },
  {
   "cell_type": "code",
   "execution_count": 17,
   "metadata": {},
   "outputs": [
    {
     "name": "stdout",
     "output_type": "stream",
     "text": [
      "========================================================\n",
      "weighted CONACT elmo: 6 transformer: 3 unirep: 1\n",
      "fit time:  0:18:43.966390\n",
      "model train score:  0.9959366111336855\n",
      "Done!\n",
      "weighted CONACT valid score, scale=False:  0.3787465940054496\n",
      "weighted CONACT test_fold_holdout score, scale=False:  0.2883008356545961\n",
      "weighted CONACT test_superfamily_holdout score, scale=False:  0.4528753993610224\n",
      "weighted CONACT test_family_holdout score, scale=False:  0.940251572327044\n"
     ]
    }
   ],
   "source": [
    "all_scores_all_weights = {}\n",
    "all_scores, clf = do_weighted_concat([6,3,1], scale=False)"
   ]
  },
  {
   "cell_type": "code",
   "execution_count": 18,
   "metadata": {},
   "outputs": [
    {
     "name": "stdout",
     "output_type": "stream",
     "text": [
      "========================================================\n",
      "weighted CONACT elmo: 8 transformer: 4 unirep: 1\n",
      "fit time:  0:30:51.901065\n",
      "model train score:  0.9996749288906949\n",
      "Done!\n",
      "weighted CONACT valid score, scale=False:  0.3801089918256131\n",
      "weighted CONACT test_fold_holdout score, scale=False:  0.27715877437325903\n",
      "weighted CONACT test_superfamily_holdout score, scale=False:  0.4536741214057508\n",
      "weighted CONACT test_family_holdout score, scale=False:  0.9418238993710691\n"
     ]
    }
   ],
   "source": [
    "all_scores_all_weights = {}\n",
    "all_scores, clf = do_weighted_concat([8,4,1], scale=False)"
   ]
  },
  {
   "cell_type": "code",
   "execution_count": 19,
   "metadata": {},
   "outputs": [
    {
     "name": "stdout",
     "output_type": "stream",
     "text": [
      "========================================================\n",
      "weighted CONACT elmo: 10 transformer: 5 unirep: 1\n",
      "fit time:  0:32:15.722564\n",
      "model train score:  1.0\n",
      "Done!\n",
      "weighted CONACT valid score, scale=False:  0.3801089918256131\n",
      "weighted CONACT test_fold_holdout score, scale=False:  0.27298050139275765\n",
      "weighted CONACT test_superfamily_holdout score, scale=False:  0.4512779552715655\n",
      "weighted CONACT test_family_holdout score, scale=False:  0.9426100628930818\n"
     ]
    }
   ],
   "source": [
    "all_scores_all_weights = {}\n",
    "all_scores, clf = do_weighted_concat([10,5,1], scale=False)"
   ]
  },
  {
   "cell_type": "code",
   "execution_count": 20,
   "metadata": {},
   "outputs": [
    {
     "name": "stdout",
     "output_type": "stream",
     "text": [
      "========================================================\n",
      "weighted CONACT elmo: 6 transformer: 6 unirep: 1\n",
      "fit time:  0:20:49.086698\n",
      "model train score:  0.9991060544494108\n",
      "Done!\n",
      "weighted CONACT valid score, scale=False:  0.385558583106267\n",
      "weighted CONACT test_fold_holdout score, scale=False:  0.2827298050139276\n",
      "weighted CONACT test_superfamily_holdout score, scale=False:  0.4488817891373802\n",
      "weighted CONACT test_family_holdout score, scale=False:  0.949685534591195\n"
     ]
    }
   ],
   "source": [
    "all_scores_all_weights = {}\n",
    "all_scores, clf = do_weighted_concat([6,6,1], scale=False)"
   ]
  },
  {
   "cell_type": "code",
   "execution_count": 21,
   "metadata": {},
   "outputs": [
    {
     "name": "stdout",
     "output_type": "stream",
     "text": [
      "========================================================\n",
      "weighted CONACT elmo: 6 transformer: 2 unirep: 1\n",
      "fit time:  0:17:20.777833\n",
      "model train score:  0.9934173100365705\n",
      "Done!\n",
      "weighted CONACT valid score, scale=False:  0.3773841961852861\n",
      "weighted CONACT test_fold_holdout score, scale=False:  0.2841225626740947\n",
      "weighted CONACT test_superfamily_holdout score, scale=False:  0.4472843450479233\n",
      "weighted CONACT test_family_holdout score, scale=False:  0.9363207547169812\n"
     ]
    }
   ],
   "source": [
    "all_scores_all_weights = {}\n",
    "all_scores, clf = do_weighted_concat([6,2,1], scale=False)"
   ]
  },
  {
   "cell_type": "code",
   "execution_count": null,
   "metadata": {},
   "outputs": [
    {
     "name": "stdout",
     "output_type": "stream",
     "text": [
      "========================================================\n",
      "weighted CONACT elmo: 6 transformer: 4 unirep: 1\n"
     ]
    }
   ],
   "source": [
    "all_scores_all_weights = {}\n",
    "all_scores, clf = do_weighted_concat([6,4,1], scale=False)"
   ]
  },
  {
   "cell_type": "code",
   "execution_count": null,
   "metadata": {},
   "outputs": [],
   "source": []
  }
 ],
 "metadata": {
  "kernelspec": {
   "display_name": "Python 3",
   "language": "python",
   "name": "python3"
  },
  "language_info": {
   "codemirror_mode": {
    "name": "ipython",
    "version": 3
   },
   "file_extension": ".py",
   "mimetype": "text/x-python",
   "name": "python",
   "nbconvert_exporter": "python",
   "pygments_lexer": "ipython3",
   "version": "3.8.3"
  }
 },
 "nbformat": 4,
 "nbformat_minor": 4
}
