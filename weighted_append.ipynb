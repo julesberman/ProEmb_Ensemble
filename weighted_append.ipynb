{
 "cells": [
  {
   "cell_type": "code",
   "execution_count": 24,
   "metadata": {},
   "outputs": [],
   "source": [
    "from sklearn.linear_model import LogisticRegression\n",
    "from timeit import default_timer as timer\n",
    "from datetime import timedelta\n",
    "import os\n",
    "from sklearn import preprocessing\n",
    "import numpy as np\n",
    "from read_scripts import dict_2_arr \n",
    "from read_scripts import read_dataset \n",
    "from sklearn.utils.extmath import randomized_svd\n",
    "from sklearn.decomposition import PCA\n",
    "\n",
    "task = \"remote_homology\"\n",
    "\n",
    "def fit_logistic(X, y, C_reg):\n",
    "    start = timer()\n",
    "    clf = LogisticRegression(max_iter=5000, C=C_reg)\n",
    "    clf.fit(X, y)\n",
    "    end = timer()\n",
    "    print(f\"fit time: \", timedelta(seconds=end-start))\n",
    "    \n",
    "    train_score = clf.score(X, y)\n",
    "    print(f\"model train score: \", train_score)\n",
    "    \n",
    "    # when run will play a ping sound!\n",
    "    os.system(\"printf '\\a'\")\n",
    "    os.system(\"printf '\\a'\")\n",
    "    os.system(\"printf '\\a'\")\n",
    "    print(\"Done!\")\n",
    "    \n",
    "    return clf\n",
    "\n",
    "# takes an array of dict_data\n",
    "# and combines embeddings by averaging with self then appending with other\n",
    "# convers to array with labels and returns\n",
    "def ensemble_append_mean_reps_weighted(dicts, weights, labels):\n",
    "    \n",
    "    new_dict = dict()\n",
    "    keys = dicts[0].keys()\n",
    "    for key in keys:\n",
    "        seqs = []\n",
    "        i = 0\n",
    "        for d in dicts:\n",
    "            seq = np.mean(d[key], axis=0)\n",
    "            seq = preprocessing.normalize([seq], norm='l2') * weights[i]\n",
    "            seqs.append(seq)\n",
    "            i += 1\n",
    "        combined_seqs = np.concatenate(seqs, axis=1)\n",
    "        new_dict[key] = combined_seqs\n",
    "\n",
    "    emb_size = list(new_dict.values())[0].shape[1]\n",
    "    X = np.zeros((len(new_dict), emb_size))\n",
    "    y = np.zeros(len(new_dict))\n",
    "    \n",
    "    i = 0\n",
    "    for key in new_dict:\n",
    "        X[i] = new_dict[key]\n",
    "        y[i] = labels[key]\n",
    "        i += 1\n",
    "        \n",
    "    return X, y"
   ]
  },
  {
   "cell_type": "code",
   "execution_count": 25,
   "metadata": {},
   "outputs": [],
   "source": [
    "def do_weighted_concat(weights, scale=True, C=1.0):\n",
    "    \n",
    "    all_scores = {}\n",
    "    \n",
    "    y_train = read_dataset('label', task, \"train\")\n",
    "    X_train_e = read_dataset('elmo', task, \"train\")\n",
    "    X_train_t = read_dataset('transformer', task, \"train\")\n",
    "    X_train_u = read_dataset('unirep', task, \"train\")\n",
    "\n",
    "    print(\"========================================================\")\n",
    "    print(f\"weighted CONACT | C:{C} elmo: {weights[0]} transformer: {weights[1]} unirep: {weights[2]}\")\n",
    "\n",
    "    X_train_app, y_train = ensemble_append_mean_reps_weighted([X_train_e, X_train_t, X_train_u], weights, y_train)\n",
    "    \n",
    "    if scale:\n",
    "        scaler = preprocessing.StandardScaler().fit(X_train_app)\n",
    "        X_train_app = scaler.transform(X_train_app)\n",
    "        \n",
    "    clf = fit_logistic(X_train_app, y_train, C)\n",
    "    \n",
    "    all_scores['train'] = clf.score(X_train_app, y_train)\n",
    "    \n",
    "    for split in ['valid', 'test_fold_holdout', 'test_superfamily_holdout', 'test_family_holdout']:\n",
    "        X_test_e = read_dataset('elmo', task, split)\n",
    "        X_test_u = read_dataset('unirep', task, split)\n",
    "        X_test_t = read_dataset('transformer', task, split)\n",
    "        y_test_dict = read_dataset('label', task, split)\n",
    "        X_test_app, y_test = ensemble_append_mean_reps_weighted([X_test_e, X_test_t, X_test_u], weights, y_test_dict)\n",
    "\n",
    "        if scale:\n",
    "            X_test_app = scaler.transform(X_test_app)\n",
    "            \n",
    "        test_score = clf.score(X_test_app, y_test)\n",
    "        all_scores[split] = test_score\n",
    "        \n",
    "        print(f\"weighted CONACT {split} score, scale={scale}: \", test_score)\n",
    "        \n",
    "    return all_scores, clf\n",
    "    "
   ]
  },
  {
   "cell_type": "code",
   "execution_count": 6,
   "metadata": {},
   "outputs": [
    {
     "name": "stdout",
     "output_type": "stream",
     "text": [
      "========================================================\n",
      "weighted CONACT elmo: 3 transformer: 2 unirep: 1\n",
      "fit time:  1:07:21.505920\n",
      "model train score:  1.0\n",
      "Done!\n",
      "weighted CONACT valid score:  0.3746594005449591\n",
      "weighted CONACT test_fold_holdout score:  0.27298050139275765\n",
      "weighted CONACT test_superfamily_holdout score:  0.46485623003194887\n",
      "weighted CONACT test_family_holdout score:  0.9544025157232704\n"
     ]
    }
   ],
   "source": [
    "all_scores_all_weights = {}\n",
    "all_scores, clf = do_weighted_concat([3,2,1])"
   ]
  },
  {
   "cell_type": "code",
   "execution_count": 7,
   "metadata": {},
   "outputs": [
    {
     "name": "stdout",
     "output_type": "stream",
     "text": [
      "========================================================\n",
      "weighted CONACT elmo: 1 transformer: 3 unirep: 1\n",
      "fit time:  1:06:33.164358\n",
      "model train score:  1.0\n",
      "Done!\n",
      "weighted CONACT valid score:  0.3746594005449591\n",
      "weighted CONACT test_fold_holdout score:  0.2743732590529248\n",
      "weighted CONACT test_superfamily_holdout score:  0.46485623003194887\n",
      "weighted CONACT test_family_holdout score:  0.9544025157232704\n"
     ]
    }
   ],
   "source": [
    "all_scores_all_weights = {}\n",
    "all_scores, clf = do_weighted_concat([1,3,1])"
   ]
  },
  {
   "cell_type": "code",
   "execution_count": 10,
   "metadata": {},
   "outputs": [
    {
     "name": "stdout",
     "output_type": "stream",
     "text": [
      "========================================================\n",
      "weighted CONACT elmo: 1 transformer: 12 unirep: 1\n",
      "fit time:  1:04:17.974441\n",
      "model train score:  1.0\n",
      "Done!\n",
      "weighted CONACT valid score:  0.3746594005449591\n",
      "weighted CONACT test_fold_holdout score:  0.2743732590529248\n",
      "weighted CONACT test_superfamily_holdout score:  0.46485623003194887\n",
      "weighted CONACT test_family_holdout score:  0.9544025157232704\n"
     ]
    }
   ],
   "source": [
    "all_scores_all_weights = {}\n",
    "all_scores, clf = do_weighted_concat([1,12,1])"
   ]
  },
  {
   "cell_type": "code",
   "execution_count": 14,
   "metadata": {},
   "outputs": [
    {
     "name": "stdout",
     "output_type": "stream",
     "text": [
      "========================================================\n",
      "weighted CONACT elmo: 1 transformer: 10 unirep: 1\n",
      "fit time:  0:32:20.049799\n",
      "model train score:  0.9919544900446973\n",
      "Done!\n",
      "weighted CONACT valid score, scale=False:  0.3569482288828338\n",
      "weighted CONACT test_fold_holdout score, scale=False:  0.25487465181058494\n",
      "weighted CONACT test_superfamily_holdout score, scale=False:  0.41134185303514376\n",
      "weighted CONACT test_family_holdout score, scale=False:  0.9205974842767296\n"
     ]
    }
   ],
   "source": [
    "all_scores_all_weights = {}\n",
    "all_scores, clf = do_weighted_concat([1,10,1], scale=False)"
   ]
  },
  {
   "cell_type": "code",
   "execution_count": 15,
   "metadata": {},
   "outputs": [
    {
     "name": "stdout",
     "output_type": "stream",
     "text": [
      "========================================================\n",
      "weighted CONACT elmo: 1 transformer: 3 unirep: 1\n",
      "fit time:  0:09:45.717715\n",
      "model train score:  0.8186103210077205\n",
      "Done!\n",
      "weighted CONACT valid score, scale=False:  0.36239782016348776\n",
      "weighted CONACT test_fold_holdout score, scale=False:  0.27019498607242337\n",
      "weighted CONACT test_superfamily_holdout score, scale=False:  0.4169329073482428\n",
      "weighted CONACT test_family_holdout score, scale=False:  0.9158805031446541\n"
     ]
    }
   ],
   "source": [
    "all_scores_all_weights = {}\n",
    "all_scores, clf = do_weighted_concat([1,3,1], scale=False)"
   ]
  },
  {
   "cell_type": "code",
   "execution_count": 16,
   "metadata": {},
   "outputs": [
    {
     "name": "stdout",
     "output_type": "stream",
     "text": [
      "========================================================\n",
      "weighted CONACT elmo: 3 transformer: 2 unirep: 1\n",
      "fit time:  0:09:59.401634\n",
      "model train score:  0.9036976838683461\n",
      "Done!\n",
      "weighted CONACT valid score, scale=False:  0.3678474114441417\n",
      "weighted CONACT test_fold_holdout score, scale=False:  0.28551532033426186\n",
      "weighted CONACT test_superfamily_holdout score, scale=False:  0.4353035143769968\n",
      "weighted CONACT test_family_holdout score, scale=False:  0.9355345911949685\n"
     ]
    }
   ],
   "source": [
    "all_scores_all_weights = {}\n",
    "all_scores, clf = do_weighted_concat([3,2,1], scale=False)"
   ]
  },
  {
   "cell_type": "code",
   "execution_count": 17,
   "metadata": {},
   "outputs": [
    {
     "name": "stdout",
     "output_type": "stream",
     "text": [
      "========================================================\n",
      "weighted CONACT elmo: 6 transformer: 3 unirep: 1\n",
      "fit time:  0:18:43.966390\n",
      "model train score:  0.9959366111336855\n",
      "Done!\n",
      "weighted CONACT valid score, scale=False:  0.3787465940054496\n",
      "weighted CONACT test_fold_holdout score, scale=False:  0.2883008356545961\n",
      "weighted CONACT test_superfamily_holdout score, scale=False:  0.4528753993610224\n",
      "weighted CONACT test_family_holdout score, scale=False:  0.940251572327044\n"
     ]
    }
   ],
   "source": [
    "all_scores_all_weights = {}\n",
    "all_scores, clf = do_weighted_concat([6,3,1], scale=False)"
   ]
  },
  {
   "cell_type": "code",
   "execution_count": 18,
   "metadata": {},
   "outputs": [
    {
     "name": "stdout",
     "output_type": "stream",
     "text": [
      "========================================================\n",
      "weighted CONACT elmo: 8 transformer: 4 unirep: 1\n",
      "fit time:  0:30:51.901065\n",
      "model train score:  0.9996749288906949\n",
      "Done!\n",
      "weighted CONACT valid score, scale=False:  0.3801089918256131\n",
      "weighted CONACT test_fold_holdout score, scale=False:  0.27715877437325903\n",
      "weighted CONACT test_superfamily_holdout score, scale=False:  0.4536741214057508\n",
      "weighted CONACT test_family_holdout score, scale=False:  0.9418238993710691\n"
     ]
    }
   ],
   "source": [
    "all_scores_all_weights = {}\n",
    "all_scores, clf = do_weighted_concat([8,4,1], scale=False)"
   ]
  },
  {
   "cell_type": "code",
   "execution_count": 19,
   "metadata": {},
   "outputs": [
    {
     "name": "stdout",
     "output_type": "stream",
     "text": [
      "========================================================\n",
      "weighted CONACT elmo: 10 transformer: 5 unirep: 1\n",
      "fit time:  0:32:15.722564\n",
      "model train score:  1.0\n",
      "Done!\n",
      "weighted CONACT valid score, scale=False:  0.3801089918256131\n",
      "weighted CONACT test_fold_holdout score, scale=False:  0.27298050139275765\n",
      "weighted CONACT test_superfamily_holdout score, scale=False:  0.4512779552715655\n",
      "weighted CONACT test_family_holdout score, scale=False:  0.9426100628930818\n"
     ]
    }
   ],
   "source": [
    "all_scores_all_weights = {}\n",
    "all_scores, clf = do_weighted_concat([10,5,1], scale=False)"
   ]
  },
  {
   "cell_type": "code",
   "execution_count": 20,
   "metadata": {},
   "outputs": [
    {
     "name": "stdout",
     "output_type": "stream",
     "text": [
      "========================================================\n",
      "weighted CONACT elmo: 6 transformer: 6 unirep: 1\n",
      "fit time:  0:20:49.086698\n",
      "model train score:  0.9991060544494108\n",
      "Done!\n",
      "weighted CONACT valid score, scale=False:  0.385558583106267\n",
      "weighted CONACT test_fold_holdout score, scale=False:  0.2827298050139276\n",
      "weighted CONACT test_superfamily_holdout score, scale=False:  0.4488817891373802\n",
      "weighted CONACT test_family_holdout score, scale=False:  0.949685534591195\n"
     ]
    }
   ],
   "source": [
    "all_scores_all_weights = {}\n",
    "all_scores, clf = do_weighted_concat([6,6,1], scale=False)"
   ]
  },
  {
   "cell_type": "code",
   "execution_count": 21,
   "metadata": {},
   "outputs": [
    {
     "name": "stdout",
     "output_type": "stream",
     "text": [
      "========================================================\n",
      "weighted CONACT elmo: 6 transformer: 2 unirep: 1\n",
      "fit time:  0:17:20.777833\n",
      "model train score:  0.9934173100365705\n",
      "Done!\n",
      "weighted CONACT valid score, scale=False:  0.3773841961852861\n",
      "weighted CONACT test_fold_holdout score, scale=False:  0.2841225626740947\n",
      "weighted CONACT test_superfamily_holdout score, scale=False:  0.4472843450479233\n",
      "weighted CONACT test_family_holdout score, scale=False:  0.9363207547169812\n"
     ]
    }
   ],
   "source": [
    "all_scores_all_weights = {}\n",
    "all_scores, clf = do_weighted_concat([6,2,1], scale=False)"
   ]
  },
  {
   "cell_type": "code",
   "execution_count": 22,
   "metadata": {},
   "outputs": [
    {
     "name": "stdout",
     "output_type": "stream",
     "text": [
      "========================================================\n",
      "weighted CONACT elmo: 6 transformer: 4 unirep: 1\n",
      "fit time:  0:26:47.987764\n",
      "model train score:  0.9977245022348639\n",
      "Done!\n",
      "weighted CONACT valid score, scale=False:  0.3801089918256131\n",
      "weighted CONACT test_fold_holdout score, scale=False:  0.2841225626740947\n",
      "weighted CONACT test_superfamily_holdout score, scale=False:  0.4528753993610224\n",
      "weighted CONACT test_family_holdout score, scale=False:  0.9433962264150944\n"
     ]
    }
   ],
   "source": [
    "all_scores_all_weights = {}\n",
    "all_scores, clf = do_weighted_concat([6,4,1], scale=False)"
   ]
  },
  {
   "cell_type": "code",
   "execution_count": 27,
   "metadata": {},
   "outputs": [
    {
     "name": "stdout",
     "output_type": "stream",
     "text": [
      "========================================================\n",
      "weighted CONACT | C:0.001 elmo: 6 transformer: 3 unirep: 1\n",
      "fit time:  0:13:54.134982\n",
      "model train score:  0.2312068264932954\n",
      "Done!\n",
      "weighted CONACT valid score, scale=False:  0.10490463215258855\n",
      "weighted CONACT test_fold_holdout score, scale=False:  0.1309192200557103\n",
      "weighted CONACT test_superfamily_holdout score, scale=False:  0.11261980830670927\n",
      "weighted CONACT test_family_holdout score, scale=False:  0.3356918238993711\n",
      "========================================================\n",
      "weighted CONACT | C:0.01 elmo: 6 transformer: 3 unirep: 1\n",
      "fit time:  0:11:54.385476\n",
      "model train score:  0.48923201950426654\n",
      "Done!\n",
      "weighted CONACT valid score, scale=False:  0.22479564032697547\n",
      "weighted CONACT test_fold_holdout score, scale=False:  0.21587743732590528\n",
      "weighted CONACT test_superfamily_holdout score, scale=False:  0.2779552715654952\n",
      "weighted CONACT test_family_holdout score, scale=False:  0.6509433962264151\n",
      "========================================================\n",
      "weighted CONACT | C:0.1 elmo: 6 transformer: 3 unirep: 1\n",
      "fit time:  0:12:13.286206\n",
      "model train score:  0.768630637952052\n",
      "Done!\n",
      "weighted CONACT valid score, scale=False:  0.34877384196185285\n",
      "weighted CONACT test_fold_holdout score, scale=False:  0.26880222841225626\n",
      "weighted CONACT test_superfamily_holdout score, scale=False:  0.4049520766773163\n",
      "weighted CONACT test_family_holdout score, scale=False:  0.89937106918239\n",
      "========================================================\n",
      "weighted CONACT | C:10 elmo: 6 transformer: 3 unirep: 1\n",
      "fit time:  0:43:45.953688\n",
      "model train score:  1.0\n",
      "Done!\n",
      "weighted CONACT valid score, scale=False:  0.38283378746594005\n",
      "weighted CONACT test_fold_holdout score, scale=False:  0.26740947075208915\n",
      "weighted CONACT test_superfamily_holdout score, scale=False:  0.45527156549520764\n",
      "weighted CONACT test_family_holdout score, scale=False:  0.9457547169811321\n",
      "========================================================\n",
      "weighted CONACT | C:100 elmo: 6 transformer: 3 unirep: 1\n"
     ]
    },
    {
     "ename": "KeyboardInterrupt",
     "evalue": "",
     "output_type": "error",
     "traceback": [
      "\u001b[0;31m---------------------------------------------------------------------------\u001b[0m",
      "\u001b[0;31mKeyboardInterrupt\u001b[0m                         Traceback (most recent call last)",
      "\u001b[0;32m<ipython-input-27-d2f30aa08c05>\u001b[0m in \u001b[0;36m<module>\u001b[0;34m\u001b[0m\n\u001b[1;32m      2\u001b[0m \u001b[0;34m\u001b[0m\u001b[0m\n\u001b[1;32m      3\u001b[0m \u001b[0;32mfor\u001b[0m \u001b[0mCval\u001b[0m \u001b[0;32min\u001b[0m \u001b[0;34m[\u001b[0m\u001b[0;36m0.001\u001b[0m\u001b[0;34m,\u001b[0m \u001b[0;36m0.01\u001b[0m\u001b[0;34m,\u001b[0m \u001b[0;36m0.1\u001b[0m\u001b[0;34m,\u001b[0m \u001b[0;36m10\u001b[0m\u001b[0;34m,\u001b[0m \u001b[0;36m100\u001b[0m\u001b[0;34m]\u001b[0m\u001b[0;34m:\u001b[0m\u001b[0;34m\u001b[0m\u001b[0;34m\u001b[0m\u001b[0m\n\u001b[0;32m----> 4\u001b[0;31m     \u001b[0mall_scores\u001b[0m\u001b[0;34m,\u001b[0m \u001b[0mclf\u001b[0m \u001b[0;34m=\u001b[0m \u001b[0mdo_weighted_concat\u001b[0m\u001b[0;34m(\u001b[0m\u001b[0;34m[\u001b[0m\u001b[0;36m6\u001b[0m\u001b[0;34m,\u001b[0m\u001b[0;36m3\u001b[0m\u001b[0;34m,\u001b[0m\u001b[0;36m1\u001b[0m\u001b[0;34m]\u001b[0m\u001b[0;34m,\u001b[0m \u001b[0mscale\u001b[0m\u001b[0;34m=\u001b[0m\u001b[0;32mFalse\u001b[0m\u001b[0;34m,\u001b[0m \u001b[0mC\u001b[0m\u001b[0;34m=\u001b[0m\u001b[0mCval\u001b[0m\u001b[0;34m)\u001b[0m\u001b[0;34m\u001b[0m\u001b[0;34m\u001b[0m\u001b[0m\n\u001b[0m\u001b[1;32m      5\u001b[0m     \u001b[0mall_scores_all_C\u001b[0m\u001b[0;34m[\u001b[0m\u001b[0mstr\u001b[0m\u001b[0;34m(\u001b[0m\u001b[0mCval\u001b[0m\u001b[0;34m)\u001b[0m\u001b[0;34m]\u001b[0m \u001b[0;34m=\u001b[0m \u001b[0mall_scores\u001b[0m\u001b[0;34m\u001b[0m\u001b[0;34m\u001b[0m\u001b[0m\n",
      "\u001b[0;32m<ipython-input-25-6d124bc9f440>\u001b[0m in \u001b[0;36mdo_weighted_concat\u001b[0;34m(weights, scale, C)\u001b[0m\n\u001b[1;32m     11\u001b[0m     \u001b[0mprint\u001b[0m\u001b[0;34m(\u001b[0m\u001b[0;34mf\"weighted CONACT | C:{C} elmo: {weights[0]} transformer: {weights[1]} unirep: {weights[2]}\"\u001b[0m\u001b[0;34m)\u001b[0m\u001b[0;34m\u001b[0m\u001b[0;34m\u001b[0m\u001b[0m\n\u001b[1;32m     12\u001b[0m \u001b[0;34m\u001b[0m\u001b[0m\n\u001b[0;32m---> 13\u001b[0;31m     \u001b[0mX_train_app\u001b[0m\u001b[0;34m,\u001b[0m \u001b[0my_train\u001b[0m \u001b[0;34m=\u001b[0m \u001b[0mensemble_append_mean_reps_weighted\u001b[0m\u001b[0;34m(\u001b[0m\u001b[0;34m[\u001b[0m\u001b[0mX_train_e\u001b[0m\u001b[0;34m,\u001b[0m \u001b[0mX_train_t\u001b[0m\u001b[0;34m,\u001b[0m \u001b[0mX_train_u\u001b[0m\u001b[0;34m]\u001b[0m\u001b[0;34m,\u001b[0m \u001b[0mweights\u001b[0m\u001b[0;34m,\u001b[0m \u001b[0my_train\u001b[0m\u001b[0;34m)\u001b[0m\u001b[0;34m\u001b[0m\u001b[0;34m\u001b[0m\u001b[0m\n\u001b[0m\u001b[1;32m     14\u001b[0m \u001b[0;34m\u001b[0m\u001b[0m\n\u001b[1;32m     15\u001b[0m     \u001b[0;32mif\u001b[0m \u001b[0mscale\u001b[0m\u001b[0;34m:\u001b[0m\u001b[0;34m\u001b[0m\u001b[0;34m\u001b[0m\u001b[0m\n",
      "\u001b[0;32m<ipython-input-24-3b17e45879b5>\u001b[0m in \u001b[0;36mensemble_append_mean_reps_weighted\u001b[0;34m(dicts, weights, labels)\u001b[0m\n\u001b[1;32m     41\u001b[0m         \u001b[0mi\u001b[0m \u001b[0;34m=\u001b[0m \u001b[0;36m0\u001b[0m\u001b[0;34m\u001b[0m\u001b[0;34m\u001b[0m\u001b[0m\n\u001b[1;32m     42\u001b[0m         \u001b[0;32mfor\u001b[0m \u001b[0md\u001b[0m \u001b[0;32min\u001b[0m \u001b[0mdicts\u001b[0m\u001b[0;34m:\u001b[0m\u001b[0;34m\u001b[0m\u001b[0;34m\u001b[0m\u001b[0m\n\u001b[0;32m---> 43\u001b[0;31m             \u001b[0mseq\u001b[0m \u001b[0;34m=\u001b[0m \u001b[0mnp\u001b[0m\u001b[0;34m.\u001b[0m\u001b[0mmean\u001b[0m\u001b[0;34m(\u001b[0m\u001b[0md\u001b[0m\u001b[0;34m[\u001b[0m\u001b[0mkey\u001b[0m\u001b[0;34m]\u001b[0m\u001b[0;34m,\u001b[0m \u001b[0maxis\u001b[0m\u001b[0;34m=\u001b[0m\u001b[0;36m0\u001b[0m\u001b[0;34m)\u001b[0m\u001b[0;34m\u001b[0m\u001b[0;34m\u001b[0m\u001b[0m\n\u001b[0m\u001b[1;32m     44\u001b[0m             \u001b[0mseq\u001b[0m \u001b[0;34m=\u001b[0m \u001b[0mpreprocessing\u001b[0m\u001b[0;34m.\u001b[0m\u001b[0mnormalize\u001b[0m\u001b[0;34m(\u001b[0m\u001b[0;34m[\u001b[0m\u001b[0mseq\u001b[0m\u001b[0;34m]\u001b[0m\u001b[0;34m,\u001b[0m \u001b[0mnorm\u001b[0m\u001b[0;34m=\u001b[0m\u001b[0;34m'l2'\u001b[0m\u001b[0;34m)\u001b[0m \u001b[0;34m*\u001b[0m \u001b[0mweights\u001b[0m\u001b[0;34m[\u001b[0m\u001b[0mi\u001b[0m\u001b[0;34m]\u001b[0m\u001b[0;34m\u001b[0m\u001b[0;34m\u001b[0m\u001b[0m\n\u001b[1;32m     45\u001b[0m             \u001b[0mseqs\u001b[0m\u001b[0;34m.\u001b[0m\u001b[0mappend\u001b[0m\u001b[0;34m(\u001b[0m\u001b[0mseq\u001b[0m\u001b[0;34m)\u001b[0m\u001b[0;34m\u001b[0m\u001b[0;34m\u001b[0m\u001b[0m\n",
      "\u001b[0;32m<__array_function__ internals>\u001b[0m in \u001b[0;36mmean\u001b[0;34m(*args, **kwargs)\u001b[0m\n",
      "\u001b[0;32m~/opt/anaconda3/lib/python3.8/site-packages/numpy/core/fromnumeric.py\u001b[0m in \u001b[0;36mmean\u001b[0;34m(a, axis, dtype, out, keepdims)\u001b[0m\n\u001b[1;32m   3332\u001b[0m             \u001b[0;32mreturn\u001b[0m \u001b[0mmean\u001b[0m\u001b[0;34m(\u001b[0m\u001b[0maxis\u001b[0m\u001b[0;34m=\u001b[0m\u001b[0maxis\u001b[0m\u001b[0;34m,\u001b[0m \u001b[0mdtype\u001b[0m\u001b[0;34m=\u001b[0m\u001b[0mdtype\u001b[0m\u001b[0;34m,\u001b[0m \u001b[0mout\u001b[0m\u001b[0;34m=\u001b[0m\u001b[0mout\u001b[0m\u001b[0;34m,\u001b[0m \u001b[0;34m**\u001b[0m\u001b[0mkwargs\u001b[0m\u001b[0;34m)\u001b[0m\u001b[0;34m\u001b[0m\u001b[0;34m\u001b[0m\u001b[0m\n\u001b[1;32m   3333\u001b[0m \u001b[0;34m\u001b[0m\u001b[0m\n\u001b[0;32m-> 3334\u001b[0;31m     return _methods._mean(a, axis=axis, dtype=dtype,\n\u001b[0m\u001b[1;32m   3335\u001b[0m                           out=out, **kwargs)\n\u001b[1;32m   3336\u001b[0m \u001b[0;34m\u001b[0m\u001b[0m\n",
      "\u001b[0;32m~/opt/anaconda3/lib/python3.8/site-packages/numpy/core/_methods.py\u001b[0m in \u001b[0;36m_mean\u001b[0;34m(a, axis, dtype, out, keepdims)\u001b[0m\n\u001b[1;32m    149\u001b[0m             \u001b[0mis_float16_result\u001b[0m \u001b[0;34m=\u001b[0m \u001b[0;32mTrue\u001b[0m\u001b[0;34m\u001b[0m\u001b[0;34m\u001b[0m\u001b[0m\n\u001b[1;32m    150\u001b[0m \u001b[0;34m\u001b[0m\u001b[0m\n\u001b[0;32m--> 151\u001b[0;31m     \u001b[0mret\u001b[0m \u001b[0;34m=\u001b[0m \u001b[0mumr_sum\u001b[0m\u001b[0;34m(\u001b[0m\u001b[0marr\u001b[0m\u001b[0;34m,\u001b[0m \u001b[0maxis\u001b[0m\u001b[0;34m,\u001b[0m \u001b[0mdtype\u001b[0m\u001b[0;34m,\u001b[0m \u001b[0mout\u001b[0m\u001b[0;34m,\u001b[0m \u001b[0mkeepdims\u001b[0m\u001b[0;34m)\u001b[0m\u001b[0;34m\u001b[0m\u001b[0;34m\u001b[0m\u001b[0m\n\u001b[0m\u001b[1;32m    152\u001b[0m     \u001b[0;32mif\u001b[0m \u001b[0misinstance\u001b[0m\u001b[0;34m(\u001b[0m\u001b[0mret\u001b[0m\u001b[0;34m,\u001b[0m \u001b[0mmu\u001b[0m\u001b[0;34m.\u001b[0m\u001b[0mndarray\u001b[0m\u001b[0;34m)\u001b[0m\u001b[0;34m:\u001b[0m\u001b[0;34m\u001b[0m\u001b[0;34m\u001b[0m\u001b[0m\n\u001b[1;32m    153\u001b[0m         ret = um.true_divide(\n",
      "\u001b[0;31mKeyboardInterrupt\u001b[0m: "
     ]
    }
   ],
   "source": [
    "all_scores_all_C = {}\n",
    "\n",
    "for Cval in [0.001, 0.01, 0.1, 10, 100]:\n",
    "    all_scores, clf = do_weighted_concat([6,3,1], scale=False, C=Cval)\n",
    "    all_scores_all_C[str(Cval)] = all_scores"
   ]
  },
  {
   "cell_type": "code",
   "execution_count": 28,
   "metadata": {},
   "outputs": [
    {
     "name": "stdout",
     "output_type": "stream",
     "text": [
      "========================================================\n",
      "weighted CONACT | C:0.2 elmo: 6 transformer: 3 unirep: 1\n",
      "fit time:  0:14:23.749085\n",
      "model train score:  0.8555871596911825\n",
      "Done!\n",
      "weighted CONACT valid score, scale=False:  0.3542234332425068\n",
      "weighted CONACT test_fold_holdout score, scale=False:  0.2785515320334262\n",
      "weighted CONACT test_superfamily_holdout score, scale=False:  0.4241214057507987\n",
      "weighted CONACT test_family_holdout score, scale=False:  0.9166666666666666\n",
      "========================================================\n",
      "weighted CONACT | C:0.4 elmo: 6 transformer: 3 unirep: 1\n",
      "fit time:  0:17:50.338473\n",
      "model train score:  0.9333604225924421\n",
      "Done!\n",
      "weighted CONACT valid score, scale=False:  0.3651226158038147\n",
      "weighted CONACT test_fold_holdout score, scale=False:  0.28690807799442897\n",
      "weighted CONACT test_superfamily_holdout score, scale=False:  0.44329073482428116\n",
      "weighted CONACT test_family_holdout score, scale=False:  0.934748427672956\n",
      "========================================================\n",
      "weighted CONACT | C:0.6 elmo: 6 transformer: 3 unirep: 1\n",
      "fit time:  0:22:07.908185\n",
      "model train score:  0.9713937423811458\n",
      "Done!\n",
      "weighted CONACT valid score, scale=False:  0.37193460490463215\n",
      "weighted CONACT test_fold_holdout score, scale=False:  0.28969359331476324\n",
      "weighted CONACT test_superfamily_holdout score, scale=False:  0.4472843450479233\n",
      "weighted CONACT test_family_holdout score, scale=False:  0.9371069182389937\n",
      "========================================================\n",
      "weighted CONACT | C:0.8 elmo: 6 transformer: 3 unirep: 1\n",
      "fit time:  0:23:26.080495\n",
      "model train score:  0.9891913856156034\n",
      "Done!\n",
      "weighted CONACT valid score, scale=False:  0.3746594005449591\n",
      "weighted CONACT test_fold_holdout score, scale=False:  0.28551532033426186\n",
      "weighted CONACT test_superfamily_holdout score, scale=False:  0.4528753993610224\n",
      "weighted CONACT test_family_holdout score, scale=False:  0.940251572327044\n"
     ]
    },
    {
     "ename": "KeyboardInterrupt",
     "evalue": "",
     "output_type": "error",
     "traceback": [
      "\u001b[0;31m---------------------------------------------------------------------------\u001b[0m",
      "\u001b[0;31mKeyboardInterrupt\u001b[0m                         Traceback (most recent call last)",
      "\u001b[0;32m<ipython-input-28-0ee85a3b076f>\u001b[0m in \u001b[0;36m<module>\u001b[0;34m\u001b[0m\n\u001b[1;32m      1\u001b[0m \u001b[0;32mfor\u001b[0m \u001b[0mCval\u001b[0m \u001b[0;32min\u001b[0m \u001b[0;34m[\u001b[0m\u001b[0;36m0.2\u001b[0m\u001b[0;34m,\u001b[0m \u001b[0;36m0.4\u001b[0m\u001b[0;34m,\u001b[0m \u001b[0;36m0.6\u001b[0m\u001b[0;34m,\u001b[0m \u001b[0;36m0.8\u001b[0m\u001b[0;34m,\u001b[0m \u001b[0;36m2\u001b[0m\u001b[0;34m]\u001b[0m\u001b[0;34m:\u001b[0m\u001b[0;34m\u001b[0m\u001b[0;34m\u001b[0m\u001b[0m\n\u001b[0;32m----> 2\u001b[0;31m     \u001b[0mall_scores\u001b[0m\u001b[0;34m,\u001b[0m \u001b[0mclf\u001b[0m \u001b[0;34m=\u001b[0m \u001b[0mdo_weighted_concat\u001b[0m\u001b[0;34m(\u001b[0m\u001b[0;34m[\u001b[0m\u001b[0;36m6\u001b[0m\u001b[0;34m,\u001b[0m\u001b[0;36m3\u001b[0m\u001b[0;34m,\u001b[0m\u001b[0;36m1\u001b[0m\u001b[0;34m]\u001b[0m\u001b[0;34m,\u001b[0m \u001b[0mscale\u001b[0m\u001b[0;34m=\u001b[0m\u001b[0;32mFalse\u001b[0m\u001b[0;34m,\u001b[0m \u001b[0mC\u001b[0m\u001b[0;34m=\u001b[0m\u001b[0mCval\u001b[0m\u001b[0;34m)\u001b[0m\u001b[0;34m\u001b[0m\u001b[0;34m\u001b[0m\u001b[0m\n\u001b[0m\u001b[1;32m      3\u001b[0m     \u001b[0mall_scores_all_C\u001b[0m\u001b[0;34m[\u001b[0m\u001b[0mstr\u001b[0m\u001b[0;34m(\u001b[0m\u001b[0mCval\u001b[0m\u001b[0;34m)\u001b[0m\u001b[0;34m]\u001b[0m \u001b[0;34m=\u001b[0m \u001b[0mall_scores\u001b[0m\u001b[0;34m\u001b[0m\u001b[0;34m\u001b[0m\u001b[0m\n",
      "\u001b[0;32m<ipython-input-25-6d124bc9f440>\u001b[0m in \u001b[0;36mdo_weighted_concat\u001b[0;34m(weights, scale, C)\u001b[0m\n\u001b[1;32m      5\u001b[0m     \u001b[0my_train\u001b[0m \u001b[0;34m=\u001b[0m \u001b[0mread_dataset\u001b[0m\u001b[0;34m(\u001b[0m\u001b[0;34m'label'\u001b[0m\u001b[0;34m,\u001b[0m \u001b[0mtask\u001b[0m\u001b[0;34m,\u001b[0m \u001b[0;34m\"train\"\u001b[0m\u001b[0;34m)\u001b[0m\u001b[0;34m\u001b[0m\u001b[0;34m\u001b[0m\u001b[0m\n\u001b[1;32m      6\u001b[0m     \u001b[0mX_train_e\u001b[0m \u001b[0;34m=\u001b[0m \u001b[0mread_dataset\u001b[0m\u001b[0;34m(\u001b[0m\u001b[0;34m'elmo'\u001b[0m\u001b[0;34m,\u001b[0m \u001b[0mtask\u001b[0m\u001b[0;34m,\u001b[0m \u001b[0;34m\"train\"\u001b[0m\u001b[0;34m)\u001b[0m\u001b[0;34m\u001b[0m\u001b[0;34m\u001b[0m\u001b[0m\n\u001b[0;32m----> 7\u001b[0;31m     \u001b[0mX_train_t\u001b[0m \u001b[0;34m=\u001b[0m \u001b[0mread_dataset\u001b[0m\u001b[0;34m(\u001b[0m\u001b[0;34m'transformer'\u001b[0m\u001b[0;34m,\u001b[0m \u001b[0mtask\u001b[0m\u001b[0;34m,\u001b[0m \u001b[0;34m\"train\"\u001b[0m\u001b[0;34m)\u001b[0m\u001b[0;34m\u001b[0m\u001b[0;34m\u001b[0m\u001b[0m\n\u001b[0m\u001b[1;32m      8\u001b[0m     \u001b[0mX_train_u\u001b[0m \u001b[0;34m=\u001b[0m \u001b[0mread_dataset\u001b[0m\u001b[0;34m(\u001b[0m\u001b[0;34m'unirep'\u001b[0m\u001b[0;34m,\u001b[0m \u001b[0mtask\u001b[0m\u001b[0;34m,\u001b[0m \u001b[0;34m\"train\"\u001b[0m\u001b[0;34m)\u001b[0m\u001b[0;34m\u001b[0m\u001b[0;34m\u001b[0m\u001b[0m\n\u001b[1;32m      9\u001b[0m \u001b[0;34m\u001b[0m\u001b[0m\n",
      "\u001b[0;32m~/Desktop/emb_ens/read_scripts.py\u001b[0m in \u001b[0;36mread_dataset\u001b[0;34m(model, task, split, basepath)\u001b[0m\n\u001b[1;32m     23\u001b[0m \u001b[0;32mdef\u001b[0m \u001b[0mread_dataset\u001b[0m\u001b[0;34m(\u001b[0m\u001b[0mmodel\u001b[0m\u001b[0;34m:\u001b[0m \u001b[0mstr\u001b[0m\u001b[0;34m,\u001b[0m \u001b[0mtask\u001b[0m\u001b[0;34m:\u001b[0m \u001b[0mstr\u001b[0m\u001b[0;34m,\u001b[0m \u001b[0msplit\u001b[0m\u001b[0;34m:\u001b[0m \u001b[0mstr\u001b[0m\u001b[0;34m,\u001b[0m  \u001b[0mbasepath\u001b[0m\u001b[0;34m=\u001b[0m\u001b[0;34m'./data'\u001b[0m\u001b[0;34m)\u001b[0m\u001b[0;34m:\u001b[0m\u001b[0;34m\u001b[0m\u001b[0;34m\u001b[0m\u001b[0m\n\u001b[1;32m     24\u001b[0m     \u001b[0mpath_to_file\u001b[0m \u001b[0;34m=\u001b[0m \u001b[0;34mf'{basepath}/{model}/{task}/{task}_{split}.p'\u001b[0m\u001b[0;34m\u001b[0m\u001b[0;34m\u001b[0m\u001b[0m\n\u001b[0;32m---> 25\u001b[0;31m     \u001b[0mdata\u001b[0m \u001b[0;34m=\u001b[0m \u001b[0mnp\u001b[0m\u001b[0;34m.\u001b[0m\u001b[0mload\u001b[0m\u001b[0;34m(\u001b[0m\u001b[0mpath_to_file\u001b[0m\u001b[0;34m,\u001b[0m \u001b[0mallow_pickle\u001b[0m\u001b[0;34m=\u001b[0m\u001b[0;32mTrue\u001b[0m\u001b[0;34m)\u001b[0m\u001b[0;34m\u001b[0m\u001b[0;34m\u001b[0m\u001b[0m\n\u001b[0m\u001b[1;32m     26\u001b[0m \u001b[0;34m\u001b[0m\u001b[0m\n\u001b[1;32m     27\u001b[0m     \u001b[0;32mreturn\u001b[0m \u001b[0mdata\u001b[0m\u001b[0;34m\u001b[0m\u001b[0;34m\u001b[0m\u001b[0m\n",
      "\u001b[0;32m~/opt/anaconda3/lib/python3.8/site-packages/numpy/lib/npyio.py\u001b[0m in \u001b[0;36mload\u001b[0;34m(file, mmap_mode, allow_pickle, fix_imports, encoding)\u001b[0m\n\u001b[1;32m    458\u001b[0m                                  \"when allow_pickle=False\")\n\u001b[1;32m    459\u001b[0m             \u001b[0;32mtry\u001b[0m\u001b[0;34m:\u001b[0m\u001b[0;34m\u001b[0m\u001b[0;34m\u001b[0m\u001b[0m\n\u001b[0;32m--> 460\u001b[0;31m                 \u001b[0;32mreturn\u001b[0m \u001b[0mpickle\u001b[0m\u001b[0;34m.\u001b[0m\u001b[0mload\u001b[0m\u001b[0;34m(\u001b[0m\u001b[0mfid\u001b[0m\u001b[0;34m,\u001b[0m \u001b[0;34m**\u001b[0m\u001b[0mpickle_kwargs\u001b[0m\u001b[0;34m)\u001b[0m\u001b[0;34m\u001b[0m\u001b[0;34m\u001b[0m\u001b[0m\n\u001b[0m\u001b[1;32m    461\u001b[0m             \u001b[0;32mexcept\u001b[0m \u001b[0mException\u001b[0m\u001b[0;34m:\u001b[0m\u001b[0;34m\u001b[0m\u001b[0;34m\u001b[0m\u001b[0m\n\u001b[1;32m    462\u001b[0m                 raise IOError(\n",
      "\u001b[0;31mKeyboardInterrupt\u001b[0m: "
     ]
    }
   ],
   "source": [
    "for Cval in [0.2, 0.4, 0.6, 0.8, 2]:\n",
    "    all_scores, clf = do_weighted_concat([6,3,1], scale=False, C=Cval)\n",
    "    all_scores_all_C[str(Cval)] = all_scores"
   ]
  },
  {
   "cell_type": "code",
   "execution_count": 29,
   "metadata": {},
   "outputs": [
    {
     "name": "stdout",
     "output_type": "stream",
     "text": [
      "========================================================\n",
      "weighted CONACT | C:0.5 elmo: 6 transformer: 3 unirep: 1\n",
      "fit time:  0:20:42.577006\n",
      "model train score:  0.9555465258025193\n",
      "Done!\n",
      "weighted CONACT valid score, scale=False:  0.37057220708446864\n",
      "weighted CONACT test_fold_holdout score, scale=False:  0.28690807799442897\n",
      "weighted CONACT test_superfamily_holdout score, scale=False:  0.4424920127795527\n",
      "weighted CONACT test_family_holdout score, scale=False:  0.9363207547169812\n",
      "========================================================\n",
      "weighted CONACT | C:0.7 elmo: 6 transformer: 3 unirep: 1\n",
      "fit time:  0:26:57.287262\n",
      "model train score:  0.9824461600975213\n",
      "Done!\n",
      "weighted CONACT valid score, scale=False:  0.3746594005449591\n",
      "weighted CONACT test_fold_holdout score, scale=False:  0.28690807799442897\n",
      "weighted CONACT test_superfamily_holdout score, scale=False:  0.4496805111821086\n",
      "weighted CONACT test_family_holdout score, scale=False:  0.9394654088050315\n",
      "========================================================\n",
      "weighted CONACT | C:0.9 elmo: 6 transformer: 3 unirep: 1\n",
      "fit time:  0:24:24.652699\n",
      "model train score:  0.9934173100365705\n",
      "Done!\n",
      "weighted CONACT valid score, scale=False:  0.3773841961852861\n",
      "weighted CONACT test_fold_holdout score, scale=False:  0.28690807799442897\n",
      "weighted CONACT test_superfamily_holdout score, scale=False:  0.4528753993610224\n",
      "weighted CONACT test_family_holdout score, scale=False:  0.9410377358490566\n"
     ]
    }
   ],
   "source": [
    "for Cval in [0.5, 0.7, 0.9]:\n",
    "    all_scores, clf = do_weighted_concat([6,3,1], scale=False, C=Cval)\n",
    "    all_scores_all_C[str(Cval)] = all_scores"
   ]
  },
  {
   "cell_type": "code",
   "execution_count": null,
   "metadata": {},
   "outputs": [],
   "source": []
  }
 ],
 "metadata": {
  "kernelspec": {
   "display_name": "Python 3",
   "language": "python",
   "name": "python3"
  },
  "language_info": {
   "codemirror_mode": {
    "name": "ipython",
    "version": 3
   },
   "file_extension": ".py",
   "mimetype": "text/x-python",
   "name": "python",
   "nbconvert_exporter": "python",
   "pygments_lexer": "ipython3",
   "version": "3.8.3"
  }
 },
 "nbformat": 4,
 "nbformat_minor": 4
}
